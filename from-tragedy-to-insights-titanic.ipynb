{
 "cells": [
  {
   "cell_type": "markdown",
   "id": "49177ae4",
   "metadata": {
    "papermill": {
     "duration": 0.015219,
     "end_time": "2023-07-24T09:37:51.238308",
     "exception": false,
     "start_time": "2023-07-24T09:37:51.223089",
     "status": "completed"
    },
    "tags": []
   },
   "source": [
    "<center><img src=\"https://upload.wikimedia.org/wikipedia/commons/thumb/f/fd/RMS_Titanic_3.jpg/1280px-RMS_Titanic_3.jpg\" alt=\"Titanic\" width = \"500\"></center>\n",
    "\n",
    "# Introduction\n",
    "***\n",
    "<font size=\"5\"><center><em> \"The Titanic case has been used too often and feels dull\" </em></center></font>\n",
    "\n",
    "But overthinking only kept my data project stuck in emptiness. Finally, I decided to push forward and disregard that notion. Why not kickstart my data science project with the Titanic case?\n",
    "In that decision, I found newfound inspiration. I laid out the steps, prepared my Python notebook, and began delving into the Titanic dataset. Despite the debated boredom, I discovered intriguing findings that sharpened my data science skills.<br>\n",
    "So, let's leave behind the common mindset and dare to face the challenge. This is my first step towards building an extraordinary data science portfolio.\n",
    "\n",
    "## About Titanic Disaster\n",
    "The sinking of the Titanic is one of the most infamous shipwrecks in history.\n",
    "On April 15, 1912, during her maiden voyage, the widely considered “unsinkable” RMS Titanic sank after colliding with an iceberg. Unfortunately, there weren’t enough lifeboats for everyone onboard, resulting in the death of 1502 out of 2224 passengers and crew.<br>\n",
    "While there was some element of luck involved in surviving, it seems some groups of people were more likely to survive than others.\n",
    "\n",
    "## Objectives\n",
    "- Do an **Exploratory Data Analysis (EDA)** of Titanic Disaster\n",
    "- Build a **predictive model** to predict the chances of passengers survival\n",
    "- **KICKSTART FOR MY DATA SCIENCE PROJECT 🔥🔥🔥**"
   ]
  },
  {
   "cell_type": "markdown",
   "id": "15d9604b",
   "metadata": {
    "papermill": {
     "duration": 0.012067,
     "end_time": "2023-07-24T09:37:51.263517",
     "exception": false,
     "start_time": "2023-07-24T09:37:51.251450",
     "status": "completed"
    },
    "tags": []
   },
   "source": [
    "# Part 1: Importing Necessary Library and Dataset 📊\n",
    "***\n",
    "To start this project, first we need to prepare the required libraries and datasets\n",
    "\n",
    "## 1.1 Importing Library\n",
    "Want to expolore and analyze data more easily❔❔❔<br>\n",
    "The answer lies in using **libraries**❗❗❗\n",
    "\n",
    "In this section we will import libraries to assist us in analyzing the Titanic data"
   ]
  },
  {
   "cell_type": "code",
   "execution_count": 1,
   "id": "d5b01c7b",
   "metadata": {
    "execution": {
     "iopub.execute_input": "2023-07-24T09:37:51.291169Z",
     "iopub.status.busy": "2023-07-24T09:37:51.290239Z",
     "iopub.status.idle": "2023-07-24T09:37:53.134014Z",
     "shell.execute_reply": "2023-07-24T09:37:53.132694Z"
    },
    "papermill": {
     "duration": 1.861194,
     "end_time": "2023-07-24T09:37:53.137076",
     "exception": false,
     "start_time": "2023-07-24T09:37:51.275882",
     "status": "completed"
    },
    "tags": []
   },
   "outputs": [
    {
     "name": "stdout",
     "output_type": "stream",
     "text": [
      "/kaggle/input/titanic/train.csv\n",
      "/kaggle/input/titanic/test.csv\n",
      "/kaggle/input/titanic/gender_submission.csv\n"
     ]
    }
   ],
   "source": [
    "import pandas as pd\n",
    "import numpy as np\n",
    "from matplotlib import pyplot as plt\n",
    "plt.style.use('fivethirtyeight')\n",
    "import seaborn as sns\n",
    "\n",
    "import warnings\n",
    "warnings.filterwarnings('ignore') ## To ignore warning\n",
    "\n",
    "from collections import Counter # To help detect outlier\n",
    "\n",
    "%config InlineBackend.figure_format = 'retina' \n",
    "# %matplotlib inline\n",
    "## the output of plotting commands is displayed inline within frontends like the Jupyter notebook, directly below the code cell that produced it. The resulting plots will then also be stored in the notebook document\n",
    "\n",
    "import os\n",
    "for dirname, _, filenames in os.walk('/kaggle/input'):\n",
    "    for filename in filenames:\n",
    "        print(os.path.join(dirname, filename))"
   ]
  },
  {
   "cell_type": "markdown",
   "id": "8ddd625b",
   "metadata": {
    "papermill": {
     "duration": 0.012446,
     "end_time": "2023-07-24T09:37:53.163794",
     "exception": false,
     "start_time": "2023-07-24T09:37:53.151348",
     "status": "completed"
    },
    "tags": []
   },
   "source": [
    "## 1b. Loading Dataset\n",
    "There are three csv on this project, but we will only use two of them  (train.csv & test.csv).\n",
    "\n",
    "**Data Training** (train.csv): The training data is used to train the machine learning model by feeding it labeled examples and enabling it to capture patterns and relationships between input features and corresponding labels.\n",
    "\n",
    "**Data Test**(test.csv): The test data is a separate dataset used to evaluate the performance of the trained model by comparing its predictions against the true labels, allowing us to assess how well the model can generalize and make accurate predictions on unseen data."
   ]
  },
  {
   "cell_type": "code",
   "execution_count": 2,
   "id": "c9e10a19",
   "metadata": {
    "execution": {
     "iopub.execute_input": "2023-07-24T09:37:53.191090Z",
     "iopub.status.busy": "2023-07-24T09:37:53.190705Z",
     "iopub.status.idle": "2023-07-24T09:37:53.241466Z",
     "shell.execute_reply": "2023-07-24T09:37:53.240157Z"
    },
    "papermill": {
     "duration": 0.068012,
     "end_time": "2023-07-24T09:37:53.244594",
     "exception": false,
     "start_time": "2023-07-24T09:37:53.176582",
     "status": "completed"
    },
    "tags": []
   },
   "outputs": [],
   "source": [
    "train_df = pd.read_csv('/kaggle/input/titanic/train.csv')\n",
    "test_df = pd.read_csv('/kaggle/input/titanic/test.csv')\n",
    "combine = pd.concat([train_df.drop('Survived',1),test_df])"
   ]
  },
  {
   "cell_type": "markdown",
   "id": "bf46663a",
   "metadata": {
    "papermill": {
     "duration": 0.012442,
     "end_time": "2023-07-24T09:37:53.270182",
     "exception": false,
     "start_time": "2023-07-24T09:37:53.257740",
     "status": "completed"
    },
    "tags": []
   },
   "source": [
    "# 2. Overview Data 🔎\n",
    "***\n",
    "Let's look at the data in general starting from its shape, what columns are available, summary statistics, and so on\n",
    "\n",
    "## 2a. An Overview of The Dataset\n",
    "\n",
    "### Training Dataset (train.csv)"
   ]
  },
  {
   "cell_type": "code",
   "execution_count": 3,
   "id": "8bcda7f9",
   "metadata": {
    "execution": {
     "iopub.execute_input": "2023-07-24T09:37:53.297980Z",
     "iopub.status.busy": "2023-07-24T09:37:53.296925Z",
     "iopub.status.idle": "2023-07-24T09:37:53.330705Z",
     "shell.execute_reply": "2023-07-24T09:37:53.329424Z"
    },
    "papermill": {
     "duration": 0.050637,
     "end_time": "2023-07-24T09:37:53.333457",
     "exception": false,
     "start_time": "2023-07-24T09:37:53.282820",
     "status": "completed"
    },
    "tags": []
   },
   "outputs": [
    {
     "data": {
      "text/html": [
       "<div>\n",
       "<style scoped>\n",
       "    .dataframe tbody tr th:only-of-type {\n",
       "        vertical-align: middle;\n",
       "    }\n",
       "\n",
       "    .dataframe tbody tr th {\n",
       "        vertical-align: top;\n",
       "    }\n",
       "\n",
       "    .dataframe thead th {\n",
       "        text-align: right;\n",
       "    }\n",
       "</style>\n",
       "<table border=\"1\" class=\"dataframe\">\n",
       "  <thead>\n",
       "    <tr style=\"text-align: right;\">\n",
       "      <th></th>\n",
       "      <th>PassengerId</th>\n",
       "      <th>Survived</th>\n",
       "      <th>Pclass</th>\n",
       "      <th>Name</th>\n",
       "      <th>Sex</th>\n",
       "      <th>Age</th>\n",
       "      <th>SibSp</th>\n",
       "      <th>Parch</th>\n",
       "      <th>Ticket</th>\n",
       "      <th>Fare</th>\n",
       "      <th>Cabin</th>\n",
       "      <th>Embarked</th>\n",
       "    </tr>\n",
       "  </thead>\n",
       "  <tbody>\n",
       "    <tr>\n",
       "      <th>0</th>\n",
       "      <td>1</td>\n",
       "      <td>0</td>\n",
       "      <td>3</td>\n",
       "      <td>Braund, Mr. Owen Harris</td>\n",
       "      <td>male</td>\n",
       "      <td>22.0</td>\n",
       "      <td>1</td>\n",
       "      <td>0</td>\n",
       "      <td>A/5 21171</td>\n",
       "      <td>7.2500</td>\n",
       "      <td>NaN</td>\n",
       "      <td>S</td>\n",
       "    </tr>\n",
       "    <tr>\n",
       "      <th>1</th>\n",
       "      <td>2</td>\n",
       "      <td>1</td>\n",
       "      <td>1</td>\n",
       "      <td>Cumings, Mrs. John Bradley (Florence Briggs Th...</td>\n",
       "      <td>female</td>\n",
       "      <td>38.0</td>\n",
       "      <td>1</td>\n",
       "      <td>0</td>\n",
       "      <td>PC 17599</td>\n",
       "      <td>71.2833</td>\n",
       "      <td>C85</td>\n",
       "      <td>C</td>\n",
       "    </tr>\n",
       "    <tr>\n",
       "      <th>2</th>\n",
       "      <td>3</td>\n",
       "      <td>1</td>\n",
       "      <td>3</td>\n",
       "      <td>Heikkinen, Miss. Laina</td>\n",
       "      <td>female</td>\n",
       "      <td>26.0</td>\n",
       "      <td>0</td>\n",
       "      <td>0</td>\n",
       "      <td>STON/O2. 3101282</td>\n",
       "      <td>7.9250</td>\n",
       "      <td>NaN</td>\n",
       "      <td>S</td>\n",
       "    </tr>\n",
       "    <tr>\n",
       "      <th>3</th>\n",
       "      <td>4</td>\n",
       "      <td>1</td>\n",
       "      <td>1</td>\n",
       "      <td>Futrelle, Mrs. Jacques Heath (Lily May Peel)</td>\n",
       "      <td>female</td>\n",
       "      <td>35.0</td>\n",
       "      <td>1</td>\n",
       "      <td>0</td>\n",
       "      <td>113803</td>\n",
       "      <td>53.1000</td>\n",
       "      <td>C123</td>\n",
       "      <td>S</td>\n",
       "    </tr>\n",
       "    <tr>\n",
       "      <th>4</th>\n",
       "      <td>5</td>\n",
       "      <td>0</td>\n",
       "      <td>3</td>\n",
       "      <td>Allen, Mr. William Henry</td>\n",
       "      <td>male</td>\n",
       "      <td>35.0</td>\n",
       "      <td>0</td>\n",
       "      <td>0</td>\n",
       "      <td>373450</td>\n",
       "      <td>8.0500</td>\n",
       "      <td>NaN</td>\n",
       "      <td>S</td>\n",
       "    </tr>\n",
       "  </tbody>\n",
       "</table>\n",
       "</div>"
      ],
      "text/plain": [
       "   PassengerId  Survived  Pclass  \\\n",
       "0            1         0       3   \n",
       "1            2         1       1   \n",
       "2            3         1       3   \n",
       "3            4         1       1   \n",
       "4            5         0       3   \n",
       "\n",
       "                                                Name     Sex   Age  SibSp  \\\n",
       "0                            Braund, Mr. Owen Harris    male  22.0      1   \n",
       "1  Cumings, Mrs. John Bradley (Florence Briggs Th...  female  38.0      1   \n",
       "2                             Heikkinen, Miss. Laina  female  26.0      0   \n",
       "3       Futrelle, Mrs. Jacques Heath (Lily May Peel)  female  35.0      1   \n",
       "4                           Allen, Mr. William Henry    male  35.0      0   \n",
       "\n",
       "   Parch            Ticket     Fare Cabin Embarked  \n",
       "0      0         A/5 21171   7.2500   NaN        S  \n",
       "1      0          PC 17599  71.2833   C85        C  \n",
       "2      0  STON/O2. 3101282   7.9250   NaN        S  \n",
       "3      0            113803  53.1000  C123        S  \n",
       "4      0            373450   8.0500   NaN        S  "
      ]
     },
     "execution_count": 3,
     "metadata": {},
     "output_type": "execute_result"
    }
   ],
   "source": [
    "train_df.head()"
   ]
  },
  {
   "cell_type": "code",
   "execution_count": 4,
   "id": "58d69628",
   "metadata": {
    "execution": {
     "iopub.execute_input": "2023-07-24T09:37:53.362306Z",
     "iopub.status.busy": "2023-07-24T09:37:53.361573Z",
     "iopub.status.idle": "2023-07-24T09:37:53.394249Z",
     "shell.execute_reply": "2023-07-24T09:37:53.392976Z"
    },
    "papermill": {
     "duration": 0.050314,
     "end_time": "2023-07-24T09:37:53.396936",
     "exception": false,
     "start_time": "2023-07-24T09:37:53.346622",
     "status": "completed"
    },
    "tags": []
   },
   "outputs": [
    {
     "name": "stdout",
     "output_type": "stream",
     "text": [
      "<class 'pandas.core.frame.DataFrame'>\n",
      "RangeIndex: 891 entries, 0 to 890\n",
      "Data columns (total 12 columns):\n",
      " #   Column       Non-Null Count  Dtype  \n",
      "---  ------       --------------  -----  \n",
      " 0   PassengerId  891 non-null    int64  \n",
      " 1   Survived     891 non-null    int64  \n",
      " 2   Pclass       891 non-null    int64  \n",
      " 3   Name         891 non-null    object \n",
      " 4   Sex          891 non-null    object \n",
      " 5   Age          714 non-null    float64\n",
      " 6   SibSp        891 non-null    int64  \n",
      " 7   Parch        891 non-null    int64  \n",
      " 8   Ticket       891 non-null    object \n",
      " 9   Fare         891 non-null    float64\n",
      " 10  Cabin        204 non-null    object \n",
      " 11  Embarked     889 non-null    object \n",
      "dtypes: float64(2), int64(5), object(5)\n",
      "memory usage: 83.7+ KB\n"
     ]
    }
   ],
   "source": [
    "train_df.info()"
   ]
  },
  {
   "cell_type": "code",
   "execution_count": 5,
   "id": "2e92231d",
   "metadata": {
    "execution": {
     "iopub.execute_input": "2023-07-24T09:37:53.427197Z",
     "iopub.status.busy": "2023-07-24T09:37:53.426446Z",
     "iopub.status.idle": "2023-07-24T09:37:53.466282Z",
     "shell.execute_reply": "2023-07-24T09:37:53.464922Z"
    },
    "papermill": {
     "duration": 0.058622,
     "end_time": "2023-07-24T09:37:53.468898",
     "exception": false,
     "start_time": "2023-07-24T09:37:53.410276",
     "status": "completed"
    },
    "tags": []
   },
   "outputs": [
    {
     "data": {
      "text/html": [
       "<div>\n",
       "<style scoped>\n",
       "    .dataframe tbody tr th:only-of-type {\n",
       "        vertical-align: middle;\n",
       "    }\n",
       "\n",
       "    .dataframe tbody tr th {\n",
       "        vertical-align: top;\n",
       "    }\n",
       "\n",
       "    .dataframe thead th {\n",
       "        text-align: right;\n",
       "    }\n",
       "</style>\n",
       "<table border=\"1\" class=\"dataframe\">\n",
       "  <thead>\n",
       "    <tr style=\"text-align: right;\">\n",
       "      <th></th>\n",
       "      <th>PassengerId</th>\n",
       "      <th>Survived</th>\n",
       "      <th>Pclass</th>\n",
       "      <th>Age</th>\n",
       "      <th>SibSp</th>\n",
       "      <th>Parch</th>\n",
       "      <th>Fare</th>\n",
       "    </tr>\n",
       "  </thead>\n",
       "  <tbody>\n",
       "    <tr>\n",
       "      <th>count</th>\n",
       "      <td>891.000000</td>\n",
       "      <td>891.000000</td>\n",
       "      <td>891.000000</td>\n",
       "      <td>714.000000</td>\n",
       "      <td>891.000000</td>\n",
       "      <td>891.000000</td>\n",
       "      <td>891.000000</td>\n",
       "    </tr>\n",
       "    <tr>\n",
       "      <th>mean</th>\n",
       "      <td>446.000000</td>\n",
       "      <td>0.383838</td>\n",
       "      <td>2.308642</td>\n",
       "      <td>29.699118</td>\n",
       "      <td>0.523008</td>\n",
       "      <td>0.381594</td>\n",
       "      <td>32.204208</td>\n",
       "    </tr>\n",
       "    <tr>\n",
       "      <th>std</th>\n",
       "      <td>257.353842</td>\n",
       "      <td>0.486592</td>\n",
       "      <td>0.836071</td>\n",
       "      <td>14.526497</td>\n",
       "      <td>1.102743</td>\n",
       "      <td>0.806057</td>\n",
       "      <td>49.693429</td>\n",
       "    </tr>\n",
       "    <tr>\n",
       "      <th>min</th>\n",
       "      <td>1.000000</td>\n",
       "      <td>0.000000</td>\n",
       "      <td>1.000000</td>\n",
       "      <td>0.420000</td>\n",
       "      <td>0.000000</td>\n",
       "      <td>0.000000</td>\n",
       "      <td>0.000000</td>\n",
       "    </tr>\n",
       "    <tr>\n",
       "      <th>25%</th>\n",
       "      <td>223.500000</td>\n",
       "      <td>0.000000</td>\n",
       "      <td>2.000000</td>\n",
       "      <td>20.125000</td>\n",
       "      <td>0.000000</td>\n",
       "      <td>0.000000</td>\n",
       "      <td>7.910400</td>\n",
       "    </tr>\n",
       "    <tr>\n",
       "      <th>50%</th>\n",
       "      <td>446.000000</td>\n",
       "      <td>0.000000</td>\n",
       "      <td>3.000000</td>\n",
       "      <td>28.000000</td>\n",
       "      <td>0.000000</td>\n",
       "      <td>0.000000</td>\n",
       "      <td>14.454200</td>\n",
       "    </tr>\n",
       "    <tr>\n",
       "      <th>75%</th>\n",
       "      <td>668.500000</td>\n",
       "      <td>1.000000</td>\n",
       "      <td>3.000000</td>\n",
       "      <td>38.000000</td>\n",
       "      <td>1.000000</td>\n",
       "      <td>0.000000</td>\n",
       "      <td>31.000000</td>\n",
       "    </tr>\n",
       "    <tr>\n",
       "      <th>max</th>\n",
       "      <td>891.000000</td>\n",
       "      <td>1.000000</td>\n",
       "      <td>3.000000</td>\n",
       "      <td>80.000000</td>\n",
       "      <td>8.000000</td>\n",
       "      <td>6.000000</td>\n",
       "      <td>512.329200</td>\n",
       "    </tr>\n",
       "  </tbody>\n",
       "</table>\n",
       "</div>"
      ],
      "text/plain": [
       "       PassengerId    Survived      Pclass         Age       SibSp  \\\n",
       "count   891.000000  891.000000  891.000000  714.000000  891.000000   \n",
       "mean    446.000000    0.383838    2.308642   29.699118    0.523008   \n",
       "std     257.353842    0.486592    0.836071   14.526497    1.102743   \n",
       "min       1.000000    0.000000    1.000000    0.420000    0.000000   \n",
       "25%     223.500000    0.000000    2.000000   20.125000    0.000000   \n",
       "50%     446.000000    0.000000    3.000000   28.000000    0.000000   \n",
       "75%     668.500000    1.000000    3.000000   38.000000    1.000000   \n",
       "max     891.000000    1.000000    3.000000   80.000000    8.000000   \n",
       "\n",
       "            Parch        Fare  \n",
       "count  891.000000  891.000000  \n",
       "mean     0.381594   32.204208  \n",
       "std      0.806057   49.693429  \n",
       "min      0.000000    0.000000  \n",
       "25%      0.000000    7.910400  \n",
       "50%      0.000000   14.454200  \n",
       "75%      0.000000   31.000000  \n",
       "max      6.000000  512.329200  "
      ]
     },
     "execution_count": 5,
     "metadata": {},
     "output_type": "execute_result"
    }
   ],
   "source": [
    "train_df.describe()"
   ]
  },
  {
   "cell_type": "markdown",
   "id": "1e045691",
   "metadata": {
    "papermill": {
     "duration": 0.013296,
     "end_time": "2023-07-24T09:37:53.495928",
     "exception": false,
     "start_time": "2023-07-24T09:37:53.482632",
     "status": "completed"
    },
    "tags": []
   },
   "source": [
    "### Test Dataset (test.csv)"
   ]
  },
  {
   "cell_type": "code",
   "execution_count": 6,
   "id": "69256d70",
   "metadata": {
    "execution": {
     "iopub.execute_input": "2023-07-24T09:37:53.524724Z",
     "iopub.status.busy": "2023-07-24T09:37:53.524304Z",
     "iopub.status.idle": "2023-07-24T09:37:53.542385Z",
     "shell.execute_reply": "2023-07-24T09:37:53.541128Z"
    },
    "papermill": {
     "duration": 0.035581,
     "end_time": "2023-07-24T09:37:53.544864",
     "exception": false,
     "start_time": "2023-07-24T09:37:53.509283",
     "status": "completed"
    },
    "tags": []
   },
   "outputs": [
    {
     "data": {
      "text/html": [
       "<div>\n",
       "<style scoped>\n",
       "    .dataframe tbody tr th:only-of-type {\n",
       "        vertical-align: middle;\n",
       "    }\n",
       "\n",
       "    .dataframe tbody tr th {\n",
       "        vertical-align: top;\n",
       "    }\n",
       "\n",
       "    .dataframe thead th {\n",
       "        text-align: right;\n",
       "    }\n",
       "</style>\n",
       "<table border=\"1\" class=\"dataframe\">\n",
       "  <thead>\n",
       "    <tr style=\"text-align: right;\">\n",
       "      <th></th>\n",
       "      <th>PassengerId</th>\n",
       "      <th>Pclass</th>\n",
       "      <th>Name</th>\n",
       "      <th>Sex</th>\n",
       "      <th>Age</th>\n",
       "      <th>SibSp</th>\n",
       "      <th>Parch</th>\n",
       "      <th>Ticket</th>\n",
       "      <th>Fare</th>\n",
       "      <th>Cabin</th>\n",
       "      <th>Embarked</th>\n",
       "    </tr>\n",
       "  </thead>\n",
       "  <tbody>\n",
       "    <tr>\n",
       "      <th>0</th>\n",
       "      <td>892</td>\n",
       "      <td>3</td>\n",
       "      <td>Kelly, Mr. James</td>\n",
       "      <td>male</td>\n",
       "      <td>34.5</td>\n",
       "      <td>0</td>\n",
       "      <td>0</td>\n",
       "      <td>330911</td>\n",
       "      <td>7.8292</td>\n",
       "      <td>NaN</td>\n",
       "      <td>Q</td>\n",
       "    </tr>\n",
       "    <tr>\n",
       "      <th>1</th>\n",
       "      <td>893</td>\n",
       "      <td>3</td>\n",
       "      <td>Wilkes, Mrs. James (Ellen Needs)</td>\n",
       "      <td>female</td>\n",
       "      <td>47.0</td>\n",
       "      <td>1</td>\n",
       "      <td>0</td>\n",
       "      <td>363272</td>\n",
       "      <td>7.0000</td>\n",
       "      <td>NaN</td>\n",
       "      <td>S</td>\n",
       "    </tr>\n",
       "    <tr>\n",
       "      <th>2</th>\n",
       "      <td>894</td>\n",
       "      <td>2</td>\n",
       "      <td>Myles, Mr. Thomas Francis</td>\n",
       "      <td>male</td>\n",
       "      <td>62.0</td>\n",
       "      <td>0</td>\n",
       "      <td>0</td>\n",
       "      <td>240276</td>\n",
       "      <td>9.6875</td>\n",
       "      <td>NaN</td>\n",
       "      <td>Q</td>\n",
       "    </tr>\n",
       "    <tr>\n",
       "      <th>3</th>\n",
       "      <td>895</td>\n",
       "      <td>3</td>\n",
       "      <td>Wirz, Mr. Albert</td>\n",
       "      <td>male</td>\n",
       "      <td>27.0</td>\n",
       "      <td>0</td>\n",
       "      <td>0</td>\n",
       "      <td>315154</td>\n",
       "      <td>8.6625</td>\n",
       "      <td>NaN</td>\n",
       "      <td>S</td>\n",
       "    </tr>\n",
       "    <tr>\n",
       "      <th>4</th>\n",
       "      <td>896</td>\n",
       "      <td>3</td>\n",
       "      <td>Hirvonen, Mrs. Alexander (Helga E Lindqvist)</td>\n",
       "      <td>female</td>\n",
       "      <td>22.0</td>\n",
       "      <td>1</td>\n",
       "      <td>1</td>\n",
       "      <td>3101298</td>\n",
       "      <td>12.2875</td>\n",
       "      <td>NaN</td>\n",
       "      <td>S</td>\n",
       "    </tr>\n",
       "  </tbody>\n",
       "</table>\n",
       "</div>"
      ],
      "text/plain": [
       "   PassengerId  Pclass                                          Name     Sex  \\\n",
       "0          892       3                              Kelly, Mr. James    male   \n",
       "1          893       3              Wilkes, Mrs. James (Ellen Needs)  female   \n",
       "2          894       2                     Myles, Mr. Thomas Francis    male   \n",
       "3          895       3                              Wirz, Mr. Albert    male   \n",
       "4          896       3  Hirvonen, Mrs. Alexander (Helga E Lindqvist)  female   \n",
       "\n",
       "    Age  SibSp  Parch   Ticket     Fare Cabin Embarked  \n",
       "0  34.5      0      0   330911   7.8292   NaN        Q  \n",
       "1  47.0      1      0   363272   7.0000   NaN        S  \n",
       "2  62.0      0      0   240276   9.6875   NaN        Q  \n",
       "3  27.0      0      0   315154   8.6625   NaN        S  \n",
       "4  22.0      1      1  3101298  12.2875   NaN        S  "
      ]
     },
     "execution_count": 6,
     "metadata": {},
     "output_type": "execute_result"
    }
   ],
   "source": [
    "test_df.head()"
   ]
  },
  {
   "cell_type": "code",
   "execution_count": 7,
   "id": "2f0e6d6e",
   "metadata": {
    "execution": {
     "iopub.execute_input": "2023-07-24T09:37:53.574781Z",
     "iopub.status.busy": "2023-07-24T09:37:53.574379Z",
     "iopub.status.idle": "2023-07-24T09:37:53.588430Z",
     "shell.execute_reply": "2023-07-24T09:37:53.586808Z"
    },
    "papermill": {
     "duration": 0.031972,
     "end_time": "2023-07-24T09:37:53.590704",
     "exception": false,
     "start_time": "2023-07-24T09:37:53.558732",
     "status": "completed"
    },
    "tags": []
   },
   "outputs": [
    {
     "name": "stdout",
     "output_type": "stream",
     "text": [
      "<class 'pandas.core.frame.DataFrame'>\n",
      "RangeIndex: 418 entries, 0 to 417\n",
      "Data columns (total 11 columns):\n",
      " #   Column       Non-Null Count  Dtype  \n",
      "---  ------       --------------  -----  \n",
      " 0   PassengerId  418 non-null    int64  \n",
      " 1   Pclass       418 non-null    int64  \n",
      " 2   Name         418 non-null    object \n",
      " 3   Sex          418 non-null    object \n",
      " 4   Age          332 non-null    float64\n",
      " 5   SibSp        418 non-null    int64  \n",
      " 6   Parch        418 non-null    int64  \n",
      " 7   Ticket       418 non-null    object \n",
      " 8   Fare         417 non-null    float64\n",
      " 9   Cabin        91 non-null     object \n",
      " 10  Embarked     418 non-null    object \n",
      "dtypes: float64(2), int64(4), object(5)\n",
      "memory usage: 36.0+ KB\n"
     ]
    }
   ],
   "source": [
    "test_df.info()"
   ]
  },
  {
   "cell_type": "code",
   "execution_count": 8,
   "id": "420f6167",
   "metadata": {
    "execution": {
     "iopub.execute_input": "2023-07-24T09:37:53.620824Z",
     "iopub.status.busy": "2023-07-24T09:37:53.620389Z",
     "iopub.status.idle": "2023-07-24T09:37:53.656549Z",
     "shell.execute_reply": "2023-07-24T09:37:53.655332Z"
    },
    "papermill": {
     "duration": 0.054444,
     "end_time": "2023-07-24T09:37:53.659139",
     "exception": false,
     "start_time": "2023-07-24T09:37:53.604695",
     "status": "completed"
    },
    "tags": []
   },
   "outputs": [
    {
     "data": {
      "text/html": [
       "<div>\n",
       "<style scoped>\n",
       "    .dataframe tbody tr th:only-of-type {\n",
       "        vertical-align: middle;\n",
       "    }\n",
       "\n",
       "    .dataframe tbody tr th {\n",
       "        vertical-align: top;\n",
       "    }\n",
       "\n",
       "    .dataframe thead th {\n",
       "        text-align: right;\n",
       "    }\n",
       "</style>\n",
       "<table border=\"1\" class=\"dataframe\">\n",
       "  <thead>\n",
       "    <tr style=\"text-align: right;\">\n",
       "      <th></th>\n",
       "      <th>PassengerId</th>\n",
       "      <th>Pclass</th>\n",
       "      <th>Age</th>\n",
       "      <th>SibSp</th>\n",
       "      <th>Parch</th>\n",
       "      <th>Fare</th>\n",
       "    </tr>\n",
       "  </thead>\n",
       "  <tbody>\n",
       "    <tr>\n",
       "      <th>count</th>\n",
       "      <td>418.000000</td>\n",
       "      <td>418.000000</td>\n",
       "      <td>332.000000</td>\n",
       "      <td>418.000000</td>\n",
       "      <td>418.000000</td>\n",
       "      <td>417.000000</td>\n",
       "    </tr>\n",
       "    <tr>\n",
       "      <th>mean</th>\n",
       "      <td>1100.500000</td>\n",
       "      <td>2.265550</td>\n",
       "      <td>30.272590</td>\n",
       "      <td>0.447368</td>\n",
       "      <td>0.392344</td>\n",
       "      <td>35.627188</td>\n",
       "    </tr>\n",
       "    <tr>\n",
       "      <th>std</th>\n",
       "      <td>120.810458</td>\n",
       "      <td>0.841838</td>\n",
       "      <td>14.181209</td>\n",
       "      <td>0.896760</td>\n",
       "      <td>0.981429</td>\n",
       "      <td>55.907576</td>\n",
       "    </tr>\n",
       "    <tr>\n",
       "      <th>min</th>\n",
       "      <td>892.000000</td>\n",
       "      <td>1.000000</td>\n",
       "      <td>0.170000</td>\n",
       "      <td>0.000000</td>\n",
       "      <td>0.000000</td>\n",
       "      <td>0.000000</td>\n",
       "    </tr>\n",
       "    <tr>\n",
       "      <th>25%</th>\n",
       "      <td>996.250000</td>\n",
       "      <td>1.000000</td>\n",
       "      <td>21.000000</td>\n",
       "      <td>0.000000</td>\n",
       "      <td>0.000000</td>\n",
       "      <td>7.895800</td>\n",
       "    </tr>\n",
       "    <tr>\n",
       "      <th>50%</th>\n",
       "      <td>1100.500000</td>\n",
       "      <td>3.000000</td>\n",
       "      <td>27.000000</td>\n",
       "      <td>0.000000</td>\n",
       "      <td>0.000000</td>\n",
       "      <td>14.454200</td>\n",
       "    </tr>\n",
       "    <tr>\n",
       "      <th>75%</th>\n",
       "      <td>1204.750000</td>\n",
       "      <td>3.000000</td>\n",
       "      <td>39.000000</td>\n",
       "      <td>1.000000</td>\n",
       "      <td>0.000000</td>\n",
       "      <td>31.500000</td>\n",
       "    </tr>\n",
       "    <tr>\n",
       "      <th>max</th>\n",
       "      <td>1309.000000</td>\n",
       "      <td>3.000000</td>\n",
       "      <td>76.000000</td>\n",
       "      <td>8.000000</td>\n",
       "      <td>9.000000</td>\n",
       "      <td>512.329200</td>\n",
       "    </tr>\n",
       "  </tbody>\n",
       "</table>\n",
       "</div>"
      ],
      "text/plain": [
       "       PassengerId      Pclass         Age       SibSp       Parch        Fare\n",
       "count   418.000000  418.000000  332.000000  418.000000  418.000000  417.000000\n",
       "mean   1100.500000    2.265550   30.272590    0.447368    0.392344   35.627188\n",
       "std     120.810458    0.841838   14.181209    0.896760    0.981429   55.907576\n",
       "min     892.000000    1.000000    0.170000    0.000000    0.000000    0.000000\n",
       "25%     996.250000    1.000000   21.000000    0.000000    0.000000    7.895800\n",
       "50%    1100.500000    3.000000   27.000000    0.000000    0.000000   14.454200\n",
       "75%    1204.750000    3.000000   39.000000    1.000000    0.000000   31.500000\n",
       "max    1309.000000    3.000000   76.000000    8.000000    9.000000  512.329200"
      ]
     },
     "execution_count": 8,
     "metadata": {},
     "output_type": "execute_result"
    }
   ],
   "source": [
    "test_df.describe()"
   ]
  },
  {
   "cell_type": "markdown",
   "id": "4e20369b",
   "metadata": {
    "papermill": {
     "duration": 0.01432,
     "end_time": "2023-07-24T09:37:53.687725",
     "exception": false,
     "start_time": "2023-07-24T09:37:53.673405",
     "status": "completed"
    },
    "tags": []
   },
   "source": [
    "In general there is no big difference between **Data Training** and **Data Test**. </br>However, there is one very clear difference between these two data, which is that the test data does not have a `survived` column. This is not a problem because later we will fill in the `survived` column in the test data using the predicted results that we will make later"
   ]
  },
  {
   "cell_type": "markdown",
   "id": "dac45c40",
   "metadata": {
    "papermill": {
     "duration": 0.013883,
     "end_time": "2023-07-24T09:37:53.715705",
     "exception": false,
     "start_time": "2023-07-24T09:37:53.701822",
     "status": "completed"
    },
    "tags": []
   },
   "source": [
    "## 2b. About Dataset\n",
    "\n",
    "Now let's look at the features of the dataset and its types:\n",
    "\n",
    "### Categorical\n",
    "* **Nominal** (Categories or group that have no intrinsic order or rank)\n",
    " * **Cabin** (Cabin Number)\n",
    " * **Embarked** (Port of Embarkation)\n",
    " * **Sex**\n",
    " \n",
    "* **Ordinal** (Categories or group that have intrinsic order or rank)\n",
    " * **Pclass** (Ticket Class)\n",
    "   * 1 = 1st / Upper\n",
    "   * 2 = 2nd / Middle\n",
    "   * 3 = 3rd / Lower\n",
    " \n",
    "\n",
    "### Numeric\n",
    "* **Discrete**\n",
    " * **Passenger ID** (Unique ID for each passenger)\n",
    " * **SibSp** (# of siblings / spouse aboard the Titanic)\n",
    " * **Parch**(# of parents / children aboard the Titanic)\n",
    " * **Survival**\n",
    "   * **0** = Did Not Survived\n",
    "   * **1** = Survived\n",
    "\n",
    "* **Continuous**\n",
    " * **Age** (Age in years)\n",
    " * **Fare** (Passenger fare)\n",
    "\n",
    "### Text\n",
    "* **Ticket** (Ticket Number)\n",
    "* **Name** (Passenger Name)"
   ]
  },
  {
   "cell_type": "markdown",
   "id": "52582ec4",
   "metadata": {
    "papermill": {
     "duration": 0.013883,
     "end_time": "2023-07-24T09:37:53.743897",
     "exception": false,
     "start_time": "2023-07-24T09:37:53.730014",
     "status": "completed"
    },
    "tags": []
   },
   "source": [
    "## 2c. Tableau Visualization\n",
    "Before I made this notebook I've tried to play around using the same data using Tableau. I did this in order to get another perspective when exploring data. Apart from that, by using Tableau, we can also create interactive dashboards."
   ]
  },
  {
   "cell_type": "code",
   "execution_count": 9,
   "id": "f2e639c6",
   "metadata": {
    "_kg_hide-input": false,
    "execution": {
     "iopub.execute_input": "2023-07-24T09:37:53.774601Z",
     "iopub.status.busy": "2023-07-24T09:37:53.774172Z",
     "iopub.status.idle": "2023-07-24T09:37:53.783569Z",
     "shell.execute_reply": "2023-07-24T09:37:53.782377Z"
    },
    "papermill": {
     "duration": 0.027213,
     "end_time": "2023-07-24T09:37:53.785840",
     "exception": false,
     "start_time": "2023-07-24T09:37:53.758627",
     "status": "completed"
    },
    "tags": []
   },
   "outputs": [
    {
     "data": {
      "text/html": [
       "<div class='tableauPlaceholder' id='viz1688721483092' style='position: relative'><noscript><a href='#'><img alt='Dashboard ' src='https:&#47;&#47;public.tableau.com&#47;static&#47;images&#47;Ov&#47;OverviewTitanicTrainingDataset&#47;Dashboard&#47;1_rss.png' style='border: none' /></a></noscript><object class='tableauViz'  style='display:none;'><param name='host_url' value='https%3A%2F%2Fpublic.tableau.com%2F' /> <param name='embed_code_version' value='3' /> <param name='site_root' value='' /><param name='name' value='OverviewTitanicTrainingDataset&#47;Dashboard' /><param name='tabs' value='no' /><param name='toolbar' value='yes' /><param name='static_image' value='https:&#47;&#47;public.tableau.com&#47;static&#47;images&#47;Ov&#47;OverviewTitanicTrainingDataset&#47;Dashboard&#47;1.png' /> <param name='animate_transition' value='yes' /><param name='display_static_image' value='yes' /><param name='display_spinner' value='yes' /><param name='display_overlay' value='yes' /><param name='display_count' value='yes' /><param name='language' value='en-US' /></object></div>                <script type='text/javascript'>                    var divElement = document.getElementById('viz1688721483092');                    var vizElement = divElement.getElementsByTagName('object')[0];                    vizElement.style.width='1600px';vizElement.style.height='927px';                    var scriptElement = document.createElement('script');                    scriptElement.src = 'https://public.tableau.com/javascripts/api/viz_v1.js';                    vizElement.parentNode.insertBefore(scriptElement, vizElement);                </script>\n"
      ],
      "text/plain": [
       "<IPython.core.display.HTML object>"
      ]
     },
     "metadata": {},
     "output_type": "display_data"
    }
   ],
   "source": [
    "%%HTML\n",
    "<div class='tableauPlaceholder' id='viz1688721483092' style='position: relative'><noscript><a href='#'><img alt='Dashboard ' src='https:&#47;&#47;public.tableau.com&#47;static&#47;images&#47;Ov&#47;OverviewTitanicTrainingDataset&#47;Dashboard&#47;1_rss.png' style='border: none' /></a></noscript><object class='tableauViz'  style='display:none;'><param name='host_url' value='https%3A%2F%2Fpublic.tableau.com%2F' /> <param name='embed_code_version' value='3' /> <param name='site_root' value='' /><param name='name' value='OverviewTitanicTrainingDataset&#47;Dashboard' /><param name='tabs' value='no' /><param name='toolbar' value='yes' /><param name='static_image' value='https:&#47;&#47;public.tableau.com&#47;static&#47;images&#47;Ov&#47;OverviewTitanicTrainingDataset&#47;Dashboard&#47;1.png' /> <param name='animate_transition' value='yes' /><param name='display_static_image' value='yes' /><param name='display_spinner' value='yes' /><param name='display_overlay' value='yes' /><param name='display_count' value='yes' /><param name='language' value='en-US' /></object></div>                <script type='text/javascript'>                    var divElement = document.getElementById('viz1688721483092');                    var vizElement = divElement.getElementsByTagName('object')[0];                    vizElement.style.width='1600px';vizElement.style.height='927px';                    var scriptElement = document.createElement('script');                    scriptElement.src = 'https://public.tableau.com/javascripts/api/viz_v1.js';                    vizElement.parentNode.insertBefore(scriptElement, vizElement);                </script>"
   ]
  },
  {
   "cell_type": "markdown",
   "id": "28b260c8",
   "metadata": {
    "papermill": {
     "duration": 0.015008,
     "end_time": "2023-07-24T09:37:53.815166",
     "exception": false,
     "start_time": "2023-07-24T09:37:53.800158",
     "status": "completed"
    },
    "tags": []
   },
   "source": [
    "# 3. Cleaning the Data 🧹\n",
    "***\n",
    "At this section we will cleaning data from **Outlier, Missing Values, and Inconsistent Data**\n",
    "\n",
    "## 3a. Outlier\n",
    "*Outlier is a person, thing, or fact that is very different from other people, things, or facts, so that it cannot be used to draw general conclusion*\n",
    "\n",
    "At this project, I'll use [Interquartile Range](https://en.wikipedia.org/wiki/Interquartile_range) method to detect outliers"
   ]
  },
  {
   "cell_type": "code",
   "execution_count": 10,
   "id": "88d53d52",
   "metadata": {
    "execution": {
     "iopub.execute_input": "2023-07-24T09:37:53.846354Z",
     "iopub.status.busy": "2023-07-24T09:37:53.845852Z",
     "iopub.status.idle": "2023-07-24T09:37:53.854776Z",
     "shell.execute_reply": "2023-07-24T09:37:53.853422Z"
    },
    "papermill": {
     "duration": 0.027485,
     "end_time": "2023-07-24T09:37:53.857368",
     "exception": false,
     "start_time": "2023-07-24T09:37:53.829883",
     "status": "completed"
    },
    "tags": []
   },
   "outputs": [],
   "source": [
    "# Make a function to detect outliers\n",
    "def detect_outliers(df,features):\n",
    "    outliers_indices = []\n",
    "    \n",
    "    for col in features:\n",
    "        # 1st quartile\n",
    "        Q1 = np.percentile(df[col],25)\n",
    "        # 3rd quartile\n",
    "        Q3 = np.percentile(df[col],75)\n",
    "        # IQR\n",
    "        IQR = Q3 - Q1\n",
    "        # Outlier Step\n",
    "        outlier_step = IQR * 1.5\n",
    "        # Detect outlier and their indices\n",
    "        outlier_list_col = df[(df[col] < Q1 - outlier_step) | (df[col] > Q3 + outlier_step)].index\n",
    "        # Store Indices\n",
    "        outliers_indices.extend(outlier_list_col)\n",
    "    \n",
    "    outliers_indices = Counter(outliers_indices)\n",
    "    multiple_outliers = list(i for i, v in outliers_indices.items() if v > 1)\n",
    "    \n",
    "    return multiple_outliers"
   ]
  },
  {
   "cell_type": "code",
   "execution_count": 11,
   "id": "7104ea45",
   "metadata": {
    "execution": {
     "iopub.execute_input": "2023-07-24T09:37:53.888012Z",
     "iopub.status.busy": "2023-07-24T09:37:53.887610Z",
     "iopub.status.idle": "2023-07-24T09:37:53.919485Z",
     "shell.execute_reply": "2023-07-24T09:37:53.918229Z"
    },
    "papermill": {
     "duration": 0.050252,
     "end_time": "2023-07-24T09:37:53.922053",
     "exception": false,
     "start_time": "2023-07-24T09:37:53.871801",
     "status": "completed"
    },
    "tags": []
   },
   "outputs": [
    {
     "data": {
      "text/html": [
       "<div>\n",
       "<style scoped>\n",
       "    .dataframe tbody tr th:only-of-type {\n",
       "        vertical-align: middle;\n",
       "    }\n",
       "\n",
       "    .dataframe tbody tr th {\n",
       "        vertical-align: top;\n",
       "    }\n",
       "\n",
       "    .dataframe thead th {\n",
       "        text-align: right;\n",
       "    }\n",
       "</style>\n",
       "<table border=\"1\" class=\"dataframe\">\n",
       "  <thead>\n",
       "    <tr style=\"text-align: right;\">\n",
       "      <th></th>\n",
       "      <th>PassengerId</th>\n",
       "      <th>Survived</th>\n",
       "      <th>Pclass</th>\n",
       "      <th>Name</th>\n",
       "      <th>Sex</th>\n",
       "      <th>Age</th>\n",
       "      <th>SibSp</th>\n",
       "      <th>Parch</th>\n",
       "      <th>Ticket</th>\n",
       "      <th>Fare</th>\n",
       "      <th>Cabin</th>\n",
       "      <th>Embarked</th>\n",
       "    </tr>\n",
       "  </thead>\n",
       "  <tbody>\n",
       "    <tr>\n",
       "      <th>7</th>\n",
       "      <td>8</td>\n",
       "      <td>0</td>\n",
       "      <td>3</td>\n",
       "      <td>Palsson, Master. Gosta Leonard</td>\n",
       "      <td>male</td>\n",
       "      <td>2.0</td>\n",
       "      <td>3</td>\n",
       "      <td>1</td>\n",
       "      <td>349909</td>\n",
       "      <td>21.0750</td>\n",
       "      <td>NaN</td>\n",
       "      <td>S</td>\n",
       "    </tr>\n",
       "    <tr>\n",
       "      <th>16</th>\n",
       "      <td>17</td>\n",
       "      <td>0</td>\n",
       "      <td>3</td>\n",
       "      <td>Rice, Master. Eugene</td>\n",
       "      <td>male</td>\n",
       "      <td>2.0</td>\n",
       "      <td>4</td>\n",
       "      <td>1</td>\n",
       "      <td>382652</td>\n",
       "      <td>29.1250</td>\n",
       "      <td>NaN</td>\n",
       "      <td>Q</td>\n",
       "    </tr>\n",
       "    <tr>\n",
       "      <th>24</th>\n",
       "      <td>25</td>\n",
       "      <td>0</td>\n",
       "      <td>3</td>\n",
       "      <td>Palsson, Miss. Torborg Danira</td>\n",
       "      <td>female</td>\n",
       "      <td>8.0</td>\n",
       "      <td>3</td>\n",
       "      <td>1</td>\n",
       "      <td>349909</td>\n",
       "      <td>21.0750</td>\n",
       "      <td>NaN</td>\n",
       "      <td>S</td>\n",
       "    </tr>\n",
       "    <tr>\n",
       "      <th>27</th>\n",
       "      <td>28</td>\n",
       "      <td>0</td>\n",
       "      <td>1</td>\n",
       "      <td>Fortune, Mr. Charles Alexander</td>\n",
       "      <td>male</td>\n",
       "      <td>19.0</td>\n",
       "      <td>3</td>\n",
       "      <td>2</td>\n",
       "      <td>19950</td>\n",
       "      <td>263.0000</td>\n",
       "      <td>C23 C25 C27</td>\n",
       "      <td>S</td>\n",
       "    </tr>\n",
       "    <tr>\n",
       "      <th>50</th>\n",
       "      <td>51</td>\n",
       "      <td>0</td>\n",
       "      <td>3</td>\n",
       "      <td>Panula, Master. Juha Niilo</td>\n",
       "      <td>male</td>\n",
       "      <td>7.0</td>\n",
       "      <td>4</td>\n",
       "      <td>1</td>\n",
       "      <td>3101295</td>\n",
       "      <td>39.6875</td>\n",
       "      <td>NaN</td>\n",
       "      <td>S</td>\n",
       "    </tr>\n",
       "    <tr>\n",
       "      <th>...</th>\n",
       "      <td>...</td>\n",
       "      <td>...</td>\n",
       "      <td>...</td>\n",
       "      <td>...</td>\n",
       "      <td>...</td>\n",
       "      <td>...</td>\n",
       "      <td>...</td>\n",
       "      <td>...</td>\n",
       "      <td>...</td>\n",
       "      <td>...</td>\n",
       "      <td>...</td>\n",
       "      <td>...</td>\n",
       "    </tr>\n",
       "    <tr>\n",
       "      <th>802</th>\n",
       "      <td>803</td>\n",
       "      <td>1</td>\n",
       "      <td>1</td>\n",
       "      <td>Carter, Master. William Thornton II</td>\n",
       "      <td>male</td>\n",
       "      <td>11.0</td>\n",
       "      <td>1</td>\n",
       "      <td>2</td>\n",
       "      <td>113760</td>\n",
       "      <td>120.0000</td>\n",
       "      <td>B96 B98</td>\n",
       "      <td>S</td>\n",
       "    </tr>\n",
       "    <tr>\n",
       "      <th>820</th>\n",
       "      <td>821</td>\n",
       "      <td>1</td>\n",
       "      <td>1</td>\n",
       "      <td>Hays, Mrs. Charles Melville (Clara Jennings Gr...</td>\n",
       "      <td>female</td>\n",
       "      <td>52.0</td>\n",
       "      <td>1</td>\n",
       "      <td>1</td>\n",
       "      <td>12749</td>\n",
       "      <td>93.5000</td>\n",
       "      <td>B69</td>\n",
       "      <td>S</td>\n",
       "    </tr>\n",
       "    <tr>\n",
       "      <th>835</th>\n",
       "      <td>836</td>\n",
       "      <td>1</td>\n",
       "      <td>1</td>\n",
       "      <td>Compton, Miss. Sara Rebecca</td>\n",
       "      <td>female</td>\n",
       "      <td>39.0</td>\n",
       "      <td>1</td>\n",
       "      <td>1</td>\n",
       "      <td>PC 17756</td>\n",
       "      <td>83.1583</td>\n",
       "      <td>E49</td>\n",
       "      <td>C</td>\n",
       "    </tr>\n",
       "    <tr>\n",
       "      <th>856</th>\n",
       "      <td>857</td>\n",
       "      <td>1</td>\n",
       "      <td>1</td>\n",
       "      <td>Wick, Mrs. George Dennick (Mary Hitchcock)</td>\n",
       "      <td>female</td>\n",
       "      <td>45.0</td>\n",
       "      <td>1</td>\n",
       "      <td>1</td>\n",
       "      <td>36928</td>\n",
       "      <td>164.8667</td>\n",
       "      <td>NaN</td>\n",
       "      <td>S</td>\n",
       "    </tr>\n",
       "    <tr>\n",
       "      <th>879</th>\n",
       "      <td>880</td>\n",
       "      <td>1</td>\n",
       "      <td>1</td>\n",
       "      <td>Potter, Mrs. Thomas Jr (Lily Alexenia Wilson)</td>\n",
       "      <td>female</td>\n",
       "      <td>56.0</td>\n",
       "      <td>0</td>\n",
       "      <td>1</td>\n",
       "      <td>11767</td>\n",
       "      <td>83.1583</td>\n",
       "      <td>C50</td>\n",
       "      <td>C</td>\n",
       "    </tr>\n",
       "  </tbody>\n",
       "</table>\n",
       "<p>81 rows × 12 columns</p>\n",
       "</div>"
      ],
      "text/plain": [
       "     PassengerId  Survived  Pclass  \\\n",
       "7              8         0       3   \n",
       "16            17         0       3   \n",
       "24            25         0       3   \n",
       "27            28         0       1   \n",
       "50            51         0       3   \n",
       "..           ...       ...     ...   \n",
       "802          803         1       1   \n",
       "820          821         1       1   \n",
       "835          836         1       1   \n",
       "856          857         1       1   \n",
       "879          880         1       1   \n",
       "\n",
       "                                                  Name     Sex   Age  SibSp  \\\n",
       "7                       Palsson, Master. Gosta Leonard    male   2.0      3   \n",
       "16                                Rice, Master. Eugene    male   2.0      4   \n",
       "24                       Palsson, Miss. Torborg Danira  female   8.0      3   \n",
       "27                      Fortune, Mr. Charles Alexander    male  19.0      3   \n",
       "50                          Panula, Master. Juha Niilo    male   7.0      4   \n",
       "..                                                 ...     ...   ...    ...   \n",
       "802                Carter, Master. William Thornton II    male  11.0      1   \n",
       "820  Hays, Mrs. Charles Melville (Clara Jennings Gr...  female  52.0      1   \n",
       "835                        Compton, Miss. Sara Rebecca  female  39.0      1   \n",
       "856         Wick, Mrs. George Dennick (Mary Hitchcock)  female  45.0      1   \n",
       "879      Potter, Mrs. Thomas Jr (Lily Alexenia Wilson)  female  56.0      0   \n",
       "\n",
       "     Parch    Ticket      Fare        Cabin Embarked  \n",
       "7        1    349909   21.0750          NaN        S  \n",
       "16       1    382652   29.1250          NaN        Q  \n",
       "24       1    349909   21.0750          NaN        S  \n",
       "27       2     19950  263.0000  C23 C25 C27        S  \n",
       "50       1   3101295   39.6875          NaN        S  \n",
       "..     ...       ...       ...          ...      ...  \n",
       "802      2    113760  120.0000      B96 B98        S  \n",
       "820      1     12749   93.5000          B69        S  \n",
       "835      1  PC 17756   83.1583          E49        C  \n",
       "856      1     36928  164.8667          NaN        S  \n",
       "879      1     11767   83.1583          C50        C  \n",
       "\n",
       "[81 rows x 12 columns]"
      ]
     },
     "execution_count": 11,
     "metadata": {},
     "output_type": "execute_result"
    }
   ],
   "source": [
    " train_df.loc[detect_outliers(train_df,[\"Age\",\"SibSp\",\"Parch\",\"Fare\"])]"
   ]
  },
  {
   "cell_type": "code",
   "execution_count": 12,
   "id": "34b45f40",
   "metadata": {
    "execution": {
     "iopub.execute_input": "2023-07-24T09:37:53.954814Z",
     "iopub.status.busy": "2023-07-24T09:37:53.954411Z",
     "iopub.status.idle": "2023-07-24T09:37:53.970162Z",
     "shell.execute_reply": "2023-07-24T09:37:53.968790Z"
    },
    "papermill": {
     "duration": 0.035222,
     "end_time": "2023-07-24T09:37:53.972913",
     "exception": false,
     "start_time": "2023-07-24T09:37:53.937691",
     "status": "completed"
    },
    "tags": []
   },
   "outputs": [
    {
     "name": "stdout",
     "output_type": "stream",
     "text": [
      "The shape of the dataset **before** the outliers are removed (891, 12)\n",
      "The shape of the dataset after the outliers are removed (810, 12)\n"
     ]
    }
   ],
   "source": [
    "print(\"The shape of the dataset **before** the outliers are removed \" + str(train_df.shape))\n",
    "\n",
    "train_df = train_df.drop(detect_outliers(train_df,[\"Age\",\"SibSp\",\"Parch\",\"Fare\"]), axis = 0).reset_index(drop=True)\n",
    "\n",
    "print(\"The shape of the dataset after the outliers are removed \" + str(train_df.shape))"
   ]
  },
  {
   "cell_type": "markdown",
   "id": "c7cf57c8",
   "metadata": {
    "papermill": {
     "duration": 0.014703,
     "end_time": "2023-07-24T09:37:54.002592",
     "exception": false,
     "start_time": "2023-07-24T09:37:53.987889",
     "status": "completed"
    },
    "tags": []
   },
   "source": [
    "## 3b. Missing Values\n",
    "***Nothing is perfect in this world***, and neither with this dataset. There are some missing values on this dataset. So let's handle this!"
   ]
  },
  {
   "cell_type": "code",
   "execution_count": 13,
   "id": "5a63c823",
   "metadata": {
    "execution": {
     "iopub.execute_input": "2023-07-24T09:37:54.035519Z",
     "iopub.status.busy": "2023-07-24T09:37:54.035088Z",
     "iopub.status.idle": "2023-07-24T09:37:54.042404Z",
     "shell.execute_reply": "2023-07-24T09:37:54.041039Z"
    },
    "papermill": {
     "duration": 0.02697,
     "end_time": "2023-07-24T09:37:54.044916",
     "exception": false,
     "start_time": "2023-07-24T09:37:54.017946",
     "status": "completed"
    },
    "tags": []
   },
   "outputs": [],
   "source": [
    "def missing_values(df):\n",
    "    total = df.isnull().sum().sort_values(ascending = False)\n",
    "    percentage = round(df.isnull().sum().sort_values(ascending = False)/len(df)*100,2)\n",
    "    return pd.concat([total,percentage], axis = 1, keys = ['Total','Percentage'])"
   ]
  },
  {
   "cell_type": "code",
   "execution_count": 14,
   "id": "c4a96316",
   "metadata": {
    "execution": {
     "iopub.execute_input": "2023-07-24T09:37:54.076690Z",
     "iopub.status.busy": "2023-07-24T09:37:54.076274Z",
     "iopub.status.idle": "2023-07-24T09:37:54.094212Z",
     "shell.execute_reply": "2023-07-24T09:37:54.093262Z"
    },
    "papermill": {
     "duration": 0.036576,
     "end_time": "2023-07-24T09:37:54.096497",
     "exception": false,
     "start_time": "2023-07-24T09:37:54.059921",
     "status": "completed"
    },
    "tags": []
   },
   "outputs": [
    {
     "data": {
      "text/html": [
       "<div>\n",
       "<style scoped>\n",
       "    .dataframe tbody tr th:only-of-type {\n",
       "        vertical-align: middle;\n",
       "    }\n",
       "\n",
       "    .dataframe tbody tr th {\n",
       "        vertical-align: top;\n",
       "    }\n",
       "\n",
       "    .dataframe thead th {\n",
       "        text-align: right;\n",
       "    }\n",
       "</style>\n",
       "<table border=\"1\" class=\"dataframe\">\n",
       "  <thead>\n",
       "    <tr style=\"text-align: right;\">\n",
       "      <th></th>\n",
       "      <th>Total</th>\n",
       "      <th>Percentage</th>\n",
       "    </tr>\n",
       "  </thead>\n",
       "  <tbody>\n",
       "    <tr>\n",
       "      <th>Cabin</th>\n",
       "      <td>645</td>\n",
       "      <td>79.63</td>\n",
       "    </tr>\n",
       "    <tr>\n",
       "      <th>Age</th>\n",
       "      <td>166</td>\n",
       "      <td>20.49</td>\n",
       "    </tr>\n",
       "    <tr>\n",
       "      <th>Embarked</th>\n",
       "      <td>2</td>\n",
       "      <td>0.25</td>\n",
       "    </tr>\n",
       "    <tr>\n",
       "      <th>PassengerId</th>\n",
       "      <td>0</td>\n",
       "      <td>0.00</td>\n",
       "    </tr>\n",
       "    <tr>\n",
       "      <th>Survived</th>\n",
       "      <td>0</td>\n",
       "      <td>0.00</td>\n",
       "    </tr>\n",
       "    <tr>\n",
       "      <th>Pclass</th>\n",
       "      <td>0</td>\n",
       "      <td>0.00</td>\n",
       "    </tr>\n",
       "    <tr>\n",
       "      <th>Name</th>\n",
       "      <td>0</td>\n",
       "      <td>0.00</td>\n",
       "    </tr>\n",
       "    <tr>\n",
       "      <th>Sex</th>\n",
       "      <td>0</td>\n",
       "      <td>0.00</td>\n",
       "    </tr>\n",
       "    <tr>\n",
       "      <th>SibSp</th>\n",
       "      <td>0</td>\n",
       "      <td>0.00</td>\n",
       "    </tr>\n",
       "    <tr>\n",
       "      <th>Parch</th>\n",
       "      <td>0</td>\n",
       "      <td>0.00</td>\n",
       "    </tr>\n",
       "    <tr>\n",
       "      <th>Ticket</th>\n",
       "      <td>0</td>\n",
       "      <td>0.00</td>\n",
       "    </tr>\n",
       "    <tr>\n",
       "      <th>Fare</th>\n",
       "      <td>0</td>\n",
       "      <td>0.00</td>\n",
       "    </tr>\n",
       "  </tbody>\n",
       "</table>\n",
       "</div>"
      ],
      "text/plain": [
       "             Total  Percentage\n",
       "Cabin          645       79.63\n",
       "Age            166       20.49\n",
       "Embarked         2        0.25\n",
       "PassengerId      0        0.00\n",
       "Survived         0        0.00\n",
       "Pclass           0        0.00\n",
       "Name             0        0.00\n",
       "Sex              0        0.00\n",
       "SibSp            0        0.00\n",
       "Parch            0        0.00\n",
       "Ticket           0        0.00\n",
       "Fare             0        0.00"
      ]
     },
     "execution_count": 14,
     "metadata": {},
     "output_type": "execute_result"
    }
   ],
   "source": [
    "missing_values(train_df)"
   ]
  },
  {
   "cell_type": "markdown",
   "id": "2befc6c4",
   "metadata": {
    "papermill": {
     "duration": 0.015123,
     "end_time": "2023-07-24T09:37:54.126862",
     "exception": false,
     "start_time": "2023-07-24T09:37:54.111739",
     "status": "completed"
    },
    "tags": []
   },
   "source": [
    "There are three features that have null values. I'll using different method to handle these three features, because sometimes different features need different ways to handle. Let's start with the smallest one, **Embarked**"
   ]
  },
  {
   "cell_type": "markdown",
   "id": "e9b66248",
   "metadata": {
    "papermill": {
     "duration": 0.014982,
     "end_time": "2023-07-24T09:37:54.157930",
     "exception": false,
     "start_time": "2023-07-24T09:37:54.142948",
     "status": "completed"
    },
    "tags": []
   },
   "source": [
    "### Embarked"
   ]
  },
  {
   "cell_type": "code",
   "execution_count": 15,
   "id": "5570fcdb",
   "metadata": {
    "execution": {
     "iopub.execute_input": "2023-07-24T09:37:54.190617Z",
     "iopub.status.busy": "2023-07-24T09:37:54.190049Z",
     "iopub.status.idle": "2023-07-24T09:37:54.197717Z",
     "shell.execute_reply": "2023-07-24T09:37:54.196514Z"
    },
    "papermill": {
     "duration": 0.026984,
     "end_time": "2023-07-24T09:37:54.200108",
     "exception": false,
     "start_time": "2023-07-24T09:37:54.173124",
     "status": "completed"
    },
    "tags": []
   },
   "outputs": [],
   "source": [
    "def percent_value_counts(df,feature):\n",
    "    percent = pd.DataFrame(round(df.loc[:,feature].value_counts(dropna=False, normalize=True)*100,2))\n",
    "    total = pd.DataFrame(df.loc[:,feature].value_counts(dropna=False))\n",
    "    total.columns = [\"Total\"]\n",
    "    percent.columns = [\"Percentage\"]\n",
    "    return pd.concat([total,percent], axis=1)"
   ]
  },
  {
   "cell_type": "code",
   "execution_count": 16,
   "id": "672d333c",
   "metadata": {
    "execution": {
     "iopub.execute_input": "2023-07-24T09:37:54.233410Z",
     "iopub.status.busy": "2023-07-24T09:37:54.232984Z",
     "iopub.status.idle": "2023-07-24T09:37:54.248955Z",
     "shell.execute_reply": "2023-07-24T09:37:54.247797Z"
    },
    "papermill": {
     "duration": 0.035465,
     "end_time": "2023-07-24T09:37:54.251506",
     "exception": false,
     "start_time": "2023-07-24T09:37:54.216041",
     "status": "completed"
    },
    "tags": []
   },
   "outputs": [
    {
     "data": {
      "text/html": [
       "<div>\n",
       "<style scoped>\n",
       "    .dataframe tbody tr th:only-of-type {\n",
       "        vertical-align: middle;\n",
       "    }\n",
       "\n",
       "    .dataframe tbody tr th {\n",
       "        vertical-align: top;\n",
       "    }\n",
       "\n",
       "    .dataframe thead th {\n",
       "        text-align: right;\n",
       "    }\n",
       "</style>\n",
       "<table border=\"1\" class=\"dataframe\">\n",
       "  <thead>\n",
       "    <tr style=\"text-align: right;\">\n",
       "      <th></th>\n",
       "      <th>Total</th>\n",
       "      <th>Percentage</th>\n",
       "    </tr>\n",
       "  </thead>\n",
       "  <tbody>\n",
       "    <tr>\n",
       "      <th>S</th>\n",
       "      <td>581</td>\n",
       "      <td>71.73</td>\n",
       "    </tr>\n",
       "    <tr>\n",
       "      <th>C</th>\n",
       "      <td>154</td>\n",
       "      <td>19.01</td>\n",
       "    </tr>\n",
       "    <tr>\n",
       "      <th>Q</th>\n",
       "      <td>73</td>\n",
       "      <td>9.01</td>\n",
       "    </tr>\n",
       "    <tr>\n",
       "      <th>NaN</th>\n",
       "      <td>2</td>\n",
       "      <td>0.25</td>\n",
       "    </tr>\n",
       "  </tbody>\n",
       "</table>\n",
       "</div>"
      ],
      "text/plain": [
       "     Total  Percentage\n",
       "S      581       71.73\n",
       "C      154       19.01\n",
       "Q       73        9.01\n",
       "NaN      2        0.25"
      ]
     },
     "execution_count": 16,
     "metadata": {},
     "output_type": "execute_result"
    }
   ],
   "source": [
    "percent_value_counts(train_df,'Embarked')"
   ]
  },
  {
   "cell_type": "markdown",
   "id": "24e3d491",
   "metadata": {
    "papermill": {
     "duration": 0.015178,
     "end_time": "2023-07-24T09:37:54.282597",
     "exception": false,
     "start_time": "2023-07-24T09:37:54.267419",
     "status": "completed"
    },
    "tags": []
   },
   "source": [
    "So `Embarked` has 2 missing values. To handle this, I will use the port with the most passengers to fill the missing values"
   ]
  },
  {
   "cell_type": "code",
   "execution_count": 17,
   "id": "3d5cb178",
   "metadata": {
    "execution": {
     "iopub.execute_input": "2023-07-24T09:37:54.315476Z",
     "iopub.status.busy": "2023-07-24T09:37:54.315063Z",
     "iopub.status.idle": "2023-07-24T09:37:54.322711Z",
     "shell.execute_reply": "2023-07-24T09:37:54.321166Z"
    },
    "papermill": {
     "duration": 0.027241,
     "end_time": "2023-07-24T09:37:54.325382",
     "exception": false,
     "start_time": "2023-07-24T09:37:54.298141",
     "status": "completed"
    },
    "tags": []
   },
   "outputs": [],
   "source": [
    "mode_embarked = train_df['Embarked'].mode()[0]\n",
    "\n",
    "train_df['Embarked'].fillna(mode_embarked,inplace=True)"
   ]
  },
  {
   "cell_type": "code",
   "execution_count": 18,
   "id": "7bcb9823",
   "metadata": {
    "execution": {
     "iopub.execute_input": "2023-07-24T09:37:54.358619Z",
     "iopub.status.busy": "2023-07-24T09:37:54.358196Z",
     "iopub.status.idle": "2023-07-24T09:37:54.373088Z",
     "shell.execute_reply": "2023-07-24T09:37:54.371983Z"
    },
    "papermill": {
     "duration": 0.034499,
     "end_time": "2023-07-24T09:37:54.375743",
     "exception": false,
     "start_time": "2023-07-24T09:37:54.341244",
     "status": "completed"
    },
    "tags": []
   },
   "outputs": [
    {
     "data": {
      "text/html": [
       "<div>\n",
       "<style scoped>\n",
       "    .dataframe tbody tr th:only-of-type {\n",
       "        vertical-align: middle;\n",
       "    }\n",
       "\n",
       "    .dataframe tbody tr th {\n",
       "        vertical-align: top;\n",
       "    }\n",
       "\n",
       "    .dataframe thead th {\n",
       "        text-align: right;\n",
       "    }\n",
       "</style>\n",
       "<table border=\"1\" class=\"dataframe\">\n",
       "  <thead>\n",
       "    <tr style=\"text-align: right;\">\n",
       "      <th></th>\n",
       "      <th>Total</th>\n",
       "      <th>Percentage</th>\n",
       "    </tr>\n",
       "  </thead>\n",
       "  <tbody>\n",
       "    <tr>\n",
       "      <th>S</th>\n",
       "      <td>583</td>\n",
       "      <td>71.98</td>\n",
       "    </tr>\n",
       "    <tr>\n",
       "      <th>C</th>\n",
       "      <td>154</td>\n",
       "      <td>19.01</td>\n",
       "    </tr>\n",
       "    <tr>\n",
       "      <th>Q</th>\n",
       "      <td>73</td>\n",
       "      <td>9.01</td>\n",
       "    </tr>\n",
       "  </tbody>\n",
       "</table>\n",
       "</div>"
      ],
      "text/plain": [
       "   Total  Percentage\n",
       "S    583       71.98\n",
       "C    154       19.01\n",
       "Q     73        9.01"
      ]
     },
     "execution_count": 18,
     "metadata": {},
     "output_type": "execute_result"
    }
   ],
   "source": [
    "percent_value_counts(train_df,'Embarked')"
   ]
  },
  {
   "cell_type": "markdown",
   "id": "c015c416",
   "metadata": {
    "papermill": {
     "duration": 0.015867,
     "end_time": "2023-07-24T09:37:54.407881",
     "exception": false,
     "start_time": "2023-07-24T09:37:54.392014",
     "status": "completed"
    },
    "tags": []
   },
   "source": [
    "### Age\n",
    "Actually in a simple way we can assign the mean age of the dataset. But as we can see earlier there are a lot of passenger from different group ages. I also can't assign a kid with the mean age the dataset right?\n",
    "\n",
    "So to handle missing values in this feature, I need to look for another information that will help me. We can check the `Name` feature, with this we can see that the names have a salutation like Mr or Mrs. In the end we can assign the mean values of Mr or Mrs to the respective group\n",
    "***\n",
    "*This method are inspired by Aswhini Swain on EDA To Prediction ([DieTanic](https://www.kaggle.com/code/ash316/eda-to-prediction-dietanic)).*"
   ]
  },
  {
   "cell_type": "code",
   "execution_count": 19,
   "id": "ebe643e5",
   "metadata": {
    "execution": {
     "iopub.execute_input": "2023-07-24T09:37:54.441843Z",
     "iopub.status.busy": "2023-07-24T09:37:54.440918Z",
     "iopub.status.idle": "2023-07-24T09:37:54.505270Z",
     "shell.execute_reply": "2023-07-24T09:37:54.503751Z"
    },
    "papermill": {
     "duration": 0.084698,
     "end_time": "2023-07-24T09:37:54.508418",
     "exception": false,
     "start_time": "2023-07-24T09:37:54.423720",
     "status": "completed"
    },
    "tags": []
   },
   "outputs": [],
   "source": [
    "# Create new column 'Initial'\n",
    "train_df['Initial'] = 0\n",
    "\n",
    "# Extract salutation to 'Initial'\n",
    "for i in train_df:\n",
    "    train_df['Initial']=train_df.Name.str.extract('([A-Za-z]+)\\.') #for strings which lie between A-Z or a-z and followed by a .(dot). So we successfully extract the Initials from the Name."
   ]
  },
  {
   "cell_type": "code",
   "execution_count": 20,
   "id": "4874db0f",
   "metadata": {
    "execution": {
     "iopub.execute_input": "2023-07-24T09:37:54.544144Z",
     "iopub.status.busy": "2023-07-24T09:37:54.543598Z",
     "iopub.status.idle": "2023-07-24T09:37:54.777380Z",
     "shell.execute_reply": "2023-07-24T09:37:54.776157Z"
    },
    "papermill": {
     "duration": 0.255151,
     "end_time": "2023-07-24T09:37:54.780074",
     "exception": false,
     "start_time": "2023-07-24T09:37:54.524923",
     "status": "completed"
    },
    "tags": []
   },
   "outputs": [
    {
     "data": {
      "text/html": [
       "<style type=\"text/css\">\n",
       "#T_b0a21_row0_col0, #T_b0a21_row0_col2, #T_b0a21_row0_col3, #T_b0a21_row0_col4, #T_b0a21_row0_col6, #T_b0a21_row0_col7, #T_b0a21_row0_col11, #T_b0a21_row0_col14, #T_b0a21_row0_col15, #T_b0a21_row1_col1, #T_b0a21_row1_col5, #T_b0a21_row1_col8, #T_b0a21_row1_col9, #T_b0a21_row1_col10, #T_b0a21_row1_col12, #T_b0a21_row1_col13 {\n",
       "  background-color: #ff00ff;\n",
       "  color: #f1f1f1;\n",
       "}\n",
       "#T_b0a21_row0_col1, #T_b0a21_row0_col5, #T_b0a21_row0_col8, #T_b0a21_row0_col9, #T_b0a21_row0_col10, #T_b0a21_row0_col12, #T_b0a21_row0_col13, #T_b0a21_row1_col0, #T_b0a21_row1_col2, #T_b0a21_row1_col3, #T_b0a21_row1_col4, #T_b0a21_row1_col6, #T_b0a21_row1_col7, #T_b0a21_row1_col11, #T_b0a21_row1_col14, #T_b0a21_row1_col15 {\n",
       "  background-color: #00ffff;\n",
       "  color: #000000;\n",
       "}\n",
       "</style>\n",
       "<table id=\"T_b0a21\">\n",
       "  <thead>\n",
       "    <tr>\n",
       "      <th class=\"index_name level0\" >Initial</th>\n",
       "      <th id=\"T_b0a21_level0_col0\" class=\"col_heading level0 col0\" >Col</th>\n",
       "      <th id=\"T_b0a21_level0_col1\" class=\"col_heading level0 col1\" >Countess</th>\n",
       "      <th id=\"T_b0a21_level0_col2\" class=\"col_heading level0 col2\" >Don</th>\n",
       "      <th id=\"T_b0a21_level0_col3\" class=\"col_heading level0 col3\" >Dr</th>\n",
       "      <th id=\"T_b0a21_level0_col4\" class=\"col_heading level0 col4\" >Jonkheer</th>\n",
       "      <th id=\"T_b0a21_level0_col5\" class=\"col_heading level0 col5\" >Lady</th>\n",
       "      <th id=\"T_b0a21_level0_col6\" class=\"col_heading level0 col6\" >Major</th>\n",
       "      <th id=\"T_b0a21_level0_col7\" class=\"col_heading level0 col7\" >Master</th>\n",
       "      <th id=\"T_b0a21_level0_col8\" class=\"col_heading level0 col8\" >Miss</th>\n",
       "      <th id=\"T_b0a21_level0_col9\" class=\"col_heading level0 col9\" >Mlle</th>\n",
       "      <th id=\"T_b0a21_level0_col10\" class=\"col_heading level0 col10\" >Mme</th>\n",
       "      <th id=\"T_b0a21_level0_col11\" class=\"col_heading level0 col11\" >Mr</th>\n",
       "      <th id=\"T_b0a21_level0_col12\" class=\"col_heading level0 col12\" >Mrs</th>\n",
       "      <th id=\"T_b0a21_level0_col13\" class=\"col_heading level0 col13\" >Ms</th>\n",
       "      <th id=\"T_b0a21_level0_col14\" class=\"col_heading level0 col14\" >Rev</th>\n",
       "      <th id=\"T_b0a21_level0_col15\" class=\"col_heading level0 col15\" >Sir</th>\n",
       "    </tr>\n",
       "    <tr>\n",
       "      <th class=\"index_name level0\" >Sex</th>\n",
       "      <th class=\"blank col0\" >&nbsp;</th>\n",
       "      <th class=\"blank col1\" >&nbsp;</th>\n",
       "      <th class=\"blank col2\" >&nbsp;</th>\n",
       "      <th class=\"blank col3\" >&nbsp;</th>\n",
       "      <th class=\"blank col4\" >&nbsp;</th>\n",
       "      <th class=\"blank col5\" >&nbsp;</th>\n",
       "      <th class=\"blank col6\" >&nbsp;</th>\n",
       "      <th class=\"blank col7\" >&nbsp;</th>\n",
       "      <th class=\"blank col8\" >&nbsp;</th>\n",
       "      <th class=\"blank col9\" >&nbsp;</th>\n",
       "      <th class=\"blank col10\" >&nbsp;</th>\n",
       "      <th class=\"blank col11\" >&nbsp;</th>\n",
       "      <th class=\"blank col12\" >&nbsp;</th>\n",
       "      <th class=\"blank col13\" >&nbsp;</th>\n",
       "      <th class=\"blank col14\" >&nbsp;</th>\n",
       "      <th class=\"blank col15\" >&nbsp;</th>\n",
       "    </tr>\n",
       "  </thead>\n",
       "  <tbody>\n",
       "    <tr>\n",
       "      <th id=\"T_b0a21_level0_row0\" class=\"row_heading level0 row0\" >female</th>\n",
       "      <td id=\"T_b0a21_row0_col0\" class=\"data row0 col0\" >0</td>\n",
       "      <td id=\"T_b0a21_row0_col1\" class=\"data row0 col1\" >1</td>\n",
       "      <td id=\"T_b0a21_row0_col2\" class=\"data row0 col2\" >0</td>\n",
       "      <td id=\"T_b0a21_row0_col3\" class=\"data row0 col3\" >1</td>\n",
       "      <td id=\"T_b0a21_row0_col4\" class=\"data row0 col4\" >0</td>\n",
       "      <td id=\"T_b0a21_row0_col5\" class=\"data row0 col5\" >1</td>\n",
       "      <td id=\"T_b0a21_row0_col6\" class=\"data row0 col6\" >0</td>\n",
       "      <td id=\"T_b0a21_row0_col7\" class=\"data row0 col7\" >0</td>\n",
       "      <td id=\"T_b0a21_row0_col8\" class=\"data row0 col8\" >154</td>\n",
       "      <td id=\"T_b0a21_row0_col9\" class=\"data row0 col9\" >2</td>\n",
       "      <td id=\"T_b0a21_row0_col10\" class=\"data row0 col10\" >1</td>\n",
       "      <td id=\"T_b0a21_row0_col11\" class=\"data row0 col11\" >0</td>\n",
       "      <td id=\"T_b0a21_row0_col12\" class=\"data row0 col12\" >114</td>\n",
       "      <td id=\"T_b0a21_row0_col13\" class=\"data row0 col13\" >1</td>\n",
       "      <td id=\"T_b0a21_row0_col14\" class=\"data row0 col14\" >0</td>\n",
       "      <td id=\"T_b0a21_row0_col15\" class=\"data row0 col15\" >0</td>\n",
       "    </tr>\n",
       "    <tr>\n",
       "      <th id=\"T_b0a21_level0_row1\" class=\"row_heading level0 row1\" >male</th>\n",
       "      <td id=\"T_b0a21_row1_col0\" class=\"data row1 col0\" >2</td>\n",
       "      <td id=\"T_b0a21_row1_col1\" class=\"data row1 col1\" >0</td>\n",
       "      <td id=\"T_b0a21_row1_col2\" class=\"data row1 col2\" >1</td>\n",
       "      <td id=\"T_b0a21_row1_col3\" class=\"data row1 col3\" >6</td>\n",
       "      <td id=\"T_b0a21_row1_col4\" class=\"data row1 col4\" >1</td>\n",
       "      <td id=\"T_b0a21_row1_col5\" class=\"data row1 col5\" >0</td>\n",
       "      <td id=\"T_b0a21_row1_col6\" class=\"data row1 col6\" >2</td>\n",
       "      <td id=\"T_b0a21_row1_col7\" class=\"data row1 col7\" >19</td>\n",
       "      <td id=\"T_b0a21_row1_col8\" class=\"data row1 col8\" >0</td>\n",
       "      <td id=\"T_b0a21_row1_col9\" class=\"data row1 col9\" >0</td>\n",
       "      <td id=\"T_b0a21_row1_col10\" class=\"data row1 col10\" >0</td>\n",
       "      <td id=\"T_b0a21_row1_col11\" class=\"data row1 col11\" >497</td>\n",
       "      <td id=\"T_b0a21_row1_col12\" class=\"data row1 col12\" >0</td>\n",
       "      <td id=\"T_b0a21_row1_col13\" class=\"data row1 col13\" >0</td>\n",
       "      <td id=\"T_b0a21_row1_col14\" class=\"data row1 col14\" >6</td>\n",
       "      <td id=\"T_b0a21_row1_col15\" class=\"data row1 col15\" >1</td>\n",
       "    </tr>\n",
       "  </tbody>\n",
       "</table>\n"
      ],
      "text/plain": [
       "<pandas.io.formats.style.Styler at 0x7ac28bdacdf0>"
      ]
     },
     "execution_count": 20,
     "metadata": {},
     "output_type": "execute_result"
    }
   ],
   "source": [
    "# Check initial by gender\n",
    "pd.crosstab(train_df.Initial, train_df.Sex).T.style.background_gradient('cool_r')"
   ]
  },
  {
   "cell_type": "markdown",
   "id": "dad618b4",
   "metadata": {
    "papermill": {
     "duration": 0.015751,
     "end_time": "2023-07-24T09:37:54.812156",
     "exception": false,
     "start_time": "2023-07-24T09:37:54.796405",
     "status": "completed"
    },
    "tags": []
   },
   "source": [
    "As we can see, there are lots of greetings in this \"name\" feature. But for now we will group them into several groups"
   ]
  },
  {
   "cell_type": "code",
   "execution_count": 21,
   "id": "5e0e1886",
   "metadata": {
    "execution": {
     "iopub.execute_input": "2023-07-24T09:37:54.845965Z",
     "iopub.status.busy": "2023-07-24T09:37:54.845554Z",
     "iopub.status.idle": "2023-07-24T09:37:54.856633Z",
     "shell.execute_reply": "2023-07-24T09:37:54.855426Z"
    },
    "papermill": {
     "duration": 0.031197,
     "end_time": "2023-07-24T09:37:54.859344",
     "exception": false,
     "start_time": "2023-07-24T09:37:54.828147",
     "status": "completed"
    },
    "tags": []
   },
   "outputs": [],
   "source": [
    "# Replace some initial to several groups\n",
    "train_df['Initial'].replace(['Col','Countess','Don','Dr','Jonkheer','Lady','Major','Mlle','Mme','Ms','Rev','Sir'],['Other','Mrs','Mr','Mr','Other','Mrs','Mr','Miss','Miss','Miss','Other','Mr'],inplace=True)"
   ]
  },
  {
   "cell_type": "code",
   "execution_count": 22,
   "id": "4a10a12f",
   "metadata": {
    "execution": {
     "iopub.execute_input": "2023-07-24T09:37:54.893804Z",
     "iopub.status.busy": "2023-07-24T09:37:54.893405Z",
     "iopub.status.idle": "2023-07-24T09:37:54.909512Z",
     "shell.execute_reply": "2023-07-24T09:37:54.908099Z"
    },
    "papermill": {
     "duration": 0.036129,
     "end_time": "2023-07-24T09:37:54.911955",
     "exception": false,
     "start_time": "2023-07-24T09:37:54.875826",
     "status": "completed"
    },
    "tags": []
   },
   "outputs": [
    {
     "data": {
      "text/plain": [
       "Initial\n",
       "Master     3.808824\n",
       "Miss      23.046875\n",
       "Mr        32.535806\n",
       "Mrs       35.101010\n",
       "Other     45.888889\n",
       "Name: Age, dtype: float64"
      ]
     },
     "execution_count": 22,
     "metadata": {},
     "output_type": "execute_result"
    }
   ],
   "source": [
    "# Check the average age by initial groups\n",
    "train_df.groupby('Initial')['Age'].mean()"
   ]
  },
  {
   "cell_type": "markdown",
   "id": "ab4972b8",
   "metadata": {
    "papermill": {
     "duration": 0.015976,
     "end_time": "2023-07-24T09:37:54.944259",
     "exception": false,
     "start_time": "2023-07-24T09:37:54.928283",
     "status": "completed"
    },
    "tags": []
   },
   "source": [
    "Let's now assign this average value to each NaN value in each of the initial groups"
   ]
  },
  {
   "cell_type": "code",
   "execution_count": 23,
   "id": "f3179b3f",
   "metadata": {
    "execution": {
     "iopub.execute_input": "2023-07-24T09:37:54.978869Z",
     "iopub.status.busy": "2023-07-24T09:37:54.978089Z",
     "iopub.status.idle": "2023-07-24T09:37:54.984341Z",
     "shell.execute_reply": "2023-07-24T09:37:54.983471Z"
    },
    "papermill": {
     "duration": 0.026002,
     "end_time": "2023-07-24T09:37:54.986476",
     "exception": false,
     "start_time": "2023-07-24T09:37:54.960474",
     "status": "completed"
    },
    "tags": []
   },
   "outputs": [],
   "source": [
    "# Create a function to fill the missing values based on the average of a group\n",
    "def fill_missing_group_mean(df, group, col):\n",
    "    # Calculate mean for every group\n",
    "    average_col_by_group = df.groupby(group)[col].transform('mean')\n",
    "    # FIll null values using mean for every group\n",
    "    df[col].fillna(average_col_by_group, inplace=True)"
   ]
  },
  {
   "cell_type": "code",
   "execution_count": 24,
   "id": "06ca6ba1",
   "metadata": {
    "execution": {
     "iopub.execute_input": "2023-07-24T09:37:55.021783Z",
     "iopub.status.busy": "2023-07-24T09:37:55.020435Z",
     "iopub.status.idle": "2023-07-24T09:37:55.027673Z",
     "shell.execute_reply": "2023-07-24T09:37:55.026628Z"
    },
    "papermill": {
     "duration": 0.027368,
     "end_time": "2023-07-24T09:37:55.030114",
     "exception": false,
     "start_time": "2023-07-24T09:37:55.002746",
     "status": "completed"
    },
    "tags": []
   },
   "outputs": [],
   "source": [
    "fill_missing_group_mean(train_df,'Initial','Age')"
   ]
  },
  {
   "cell_type": "code",
   "execution_count": 25,
   "id": "dcc04b13",
   "metadata": {
    "execution": {
     "iopub.execute_input": "2023-07-24T09:37:55.065724Z",
     "iopub.status.busy": "2023-07-24T09:37:55.064753Z",
     "iopub.status.idle": "2023-07-24T09:37:55.084510Z",
     "shell.execute_reply": "2023-07-24T09:37:55.083364Z"
    },
    "papermill": {
     "duration": 0.040553,
     "end_time": "2023-07-24T09:37:55.087073",
     "exception": false,
     "start_time": "2023-07-24T09:37:55.046520",
     "status": "completed"
    },
    "tags": []
   },
   "outputs": [
    {
     "data": {
      "text/html": [
       "<div>\n",
       "<style scoped>\n",
       "    .dataframe tbody tr th:only-of-type {\n",
       "        vertical-align: middle;\n",
       "    }\n",
       "\n",
       "    .dataframe tbody tr th {\n",
       "        vertical-align: top;\n",
       "    }\n",
       "\n",
       "    .dataframe thead th {\n",
       "        text-align: right;\n",
       "    }\n",
       "</style>\n",
       "<table border=\"1\" class=\"dataframe\">\n",
       "  <thead>\n",
       "    <tr style=\"text-align: right;\">\n",
       "      <th></th>\n",
       "      <th>Total</th>\n",
       "      <th>Percentage</th>\n",
       "    </tr>\n",
       "  </thead>\n",
       "  <tbody>\n",
       "    <tr>\n",
       "      <th>Cabin</th>\n",
       "      <td>645</td>\n",
       "      <td>79.63</td>\n",
       "    </tr>\n",
       "    <tr>\n",
       "      <th>PassengerId</th>\n",
       "      <td>0</td>\n",
       "      <td>0.00</td>\n",
       "    </tr>\n",
       "    <tr>\n",
       "      <th>Survived</th>\n",
       "      <td>0</td>\n",
       "      <td>0.00</td>\n",
       "    </tr>\n",
       "    <tr>\n",
       "      <th>Pclass</th>\n",
       "      <td>0</td>\n",
       "      <td>0.00</td>\n",
       "    </tr>\n",
       "    <tr>\n",
       "      <th>Name</th>\n",
       "      <td>0</td>\n",
       "      <td>0.00</td>\n",
       "    </tr>\n",
       "    <tr>\n",
       "      <th>Sex</th>\n",
       "      <td>0</td>\n",
       "      <td>0.00</td>\n",
       "    </tr>\n",
       "    <tr>\n",
       "      <th>Age</th>\n",
       "      <td>0</td>\n",
       "      <td>0.00</td>\n",
       "    </tr>\n",
       "    <tr>\n",
       "      <th>SibSp</th>\n",
       "      <td>0</td>\n",
       "      <td>0.00</td>\n",
       "    </tr>\n",
       "    <tr>\n",
       "      <th>Parch</th>\n",
       "      <td>0</td>\n",
       "      <td>0.00</td>\n",
       "    </tr>\n",
       "    <tr>\n",
       "      <th>Ticket</th>\n",
       "      <td>0</td>\n",
       "      <td>0.00</td>\n",
       "    </tr>\n",
       "    <tr>\n",
       "      <th>Fare</th>\n",
       "      <td>0</td>\n",
       "      <td>0.00</td>\n",
       "    </tr>\n",
       "    <tr>\n",
       "      <th>Embarked</th>\n",
       "      <td>0</td>\n",
       "      <td>0.00</td>\n",
       "    </tr>\n",
       "    <tr>\n",
       "      <th>Initial</th>\n",
       "      <td>0</td>\n",
       "      <td>0.00</td>\n",
       "    </tr>\n",
       "  </tbody>\n",
       "</table>\n",
       "</div>"
      ],
      "text/plain": [
       "             Total  Percentage\n",
       "Cabin          645       79.63\n",
       "PassengerId      0        0.00\n",
       "Survived         0        0.00\n",
       "Pclass           0        0.00\n",
       "Name             0        0.00\n",
       "Sex              0        0.00\n",
       "Age              0        0.00\n",
       "SibSp            0        0.00\n",
       "Parch            0        0.00\n",
       "Ticket           0        0.00\n",
       "Fare             0        0.00\n",
       "Embarked         0        0.00\n",
       "Initial          0        0.00"
      ]
     },
     "execution_count": 25,
     "metadata": {},
     "output_type": "execute_result"
    }
   ],
   "source": [
    "# Let's see if there are still empty values in the \"Age\" feature or not\n",
    "missing_values(train_df)"
   ]
  },
  {
   "cell_type": "markdown",
   "id": "1c69d641",
   "metadata": {
    "papermill": {
     "duration": 0.01609,
     "end_time": "2023-07-24T09:37:55.122662",
     "exception": false,
     "start_time": "2023-07-24T09:37:55.106572",
     "status": "completed"
    },
    "tags": []
   },
   "source": [
    "### Cabin\n",
    "As we can see before there lots of null values on this feature and also many passengers have multiple cabins. So I'll drop this feature"
   ]
  },
  {
   "cell_type": "code",
   "execution_count": 26,
   "id": "d4738649",
   "metadata": {
    "execution": {
     "iopub.execute_input": "2023-07-24T09:37:55.158608Z",
     "iopub.status.busy": "2023-07-24T09:37:55.157795Z",
     "iopub.status.idle": "2023-07-24T09:37:55.182130Z",
     "shell.execute_reply": "2023-07-24T09:37:55.180912Z"
    },
    "papermill": {
     "duration": 0.045749,
     "end_time": "2023-07-24T09:37:55.184894",
     "exception": false,
     "start_time": "2023-07-24T09:37:55.139145",
     "status": "completed"
    },
    "tags": []
   },
   "outputs": [
    {
     "data": {
      "text/html": [
       "<div>\n",
       "<style scoped>\n",
       "    .dataframe tbody tr th:only-of-type {\n",
       "        vertical-align: middle;\n",
       "    }\n",
       "\n",
       "    .dataframe tbody tr th {\n",
       "        vertical-align: top;\n",
       "    }\n",
       "\n",
       "    .dataframe thead th {\n",
       "        text-align: right;\n",
       "    }\n",
       "</style>\n",
       "<table border=\"1\" class=\"dataframe\">\n",
       "  <thead>\n",
       "    <tr style=\"text-align: right;\">\n",
       "      <th></th>\n",
       "      <th>PassengerId</th>\n",
       "      <th>Survived</th>\n",
       "      <th>Pclass</th>\n",
       "      <th>Name</th>\n",
       "      <th>Sex</th>\n",
       "      <th>Age</th>\n",
       "      <th>SibSp</th>\n",
       "      <th>Parch</th>\n",
       "      <th>Ticket</th>\n",
       "      <th>Fare</th>\n",
       "      <th>Embarked</th>\n",
       "      <th>Initial</th>\n",
       "    </tr>\n",
       "  </thead>\n",
       "  <tbody>\n",
       "    <tr>\n",
       "      <th>0</th>\n",
       "      <td>1</td>\n",
       "      <td>0</td>\n",
       "      <td>3</td>\n",
       "      <td>Braund, Mr. Owen Harris</td>\n",
       "      <td>male</td>\n",
       "      <td>22.000000</td>\n",
       "      <td>1</td>\n",
       "      <td>0</td>\n",
       "      <td>A/5 21171</td>\n",
       "      <td>7.2500</td>\n",
       "      <td>S</td>\n",
       "      <td>Mr</td>\n",
       "    </tr>\n",
       "    <tr>\n",
       "      <th>1</th>\n",
       "      <td>2</td>\n",
       "      <td>1</td>\n",
       "      <td>1</td>\n",
       "      <td>Cumings, Mrs. John Bradley (Florence Briggs Th...</td>\n",
       "      <td>female</td>\n",
       "      <td>38.000000</td>\n",
       "      <td>1</td>\n",
       "      <td>0</td>\n",
       "      <td>PC 17599</td>\n",
       "      <td>71.2833</td>\n",
       "      <td>C</td>\n",
       "      <td>Mrs</td>\n",
       "    </tr>\n",
       "    <tr>\n",
       "      <th>2</th>\n",
       "      <td>3</td>\n",
       "      <td>1</td>\n",
       "      <td>3</td>\n",
       "      <td>Heikkinen, Miss. Laina</td>\n",
       "      <td>female</td>\n",
       "      <td>26.000000</td>\n",
       "      <td>0</td>\n",
       "      <td>0</td>\n",
       "      <td>STON/O2. 3101282</td>\n",
       "      <td>7.9250</td>\n",
       "      <td>S</td>\n",
       "      <td>Miss</td>\n",
       "    </tr>\n",
       "    <tr>\n",
       "      <th>3</th>\n",
       "      <td>4</td>\n",
       "      <td>1</td>\n",
       "      <td>1</td>\n",
       "      <td>Futrelle, Mrs. Jacques Heath (Lily May Peel)</td>\n",
       "      <td>female</td>\n",
       "      <td>35.000000</td>\n",
       "      <td>1</td>\n",
       "      <td>0</td>\n",
       "      <td>113803</td>\n",
       "      <td>53.1000</td>\n",
       "      <td>S</td>\n",
       "      <td>Mrs</td>\n",
       "    </tr>\n",
       "    <tr>\n",
       "      <th>4</th>\n",
       "      <td>5</td>\n",
       "      <td>0</td>\n",
       "      <td>3</td>\n",
       "      <td>Allen, Mr. William Henry</td>\n",
       "      <td>male</td>\n",
       "      <td>35.000000</td>\n",
       "      <td>0</td>\n",
       "      <td>0</td>\n",
       "      <td>373450</td>\n",
       "      <td>8.0500</td>\n",
       "      <td>S</td>\n",
       "      <td>Mr</td>\n",
       "    </tr>\n",
       "    <tr>\n",
       "      <th>...</th>\n",
       "      <td>...</td>\n",
       "      <td>...</td>\n",
       "      <td>...</td>\n",
       "      <td>...</td>\n",
       "      <td>...</td>\n",
       "      <td>...</td>\n",
       "      <td>...</td>\n",
       "      <td>...</td>\n",
       "      <td>...</td>\n",
       "      <td>...</td>\n",
       "      <td>...</td>\n",
       "      <td>...</td>\n",
       "    </tr>\n",
       "    <tr>\n",
       "      <th>805</th>\n",
       "      <td>887</td>\n",
       "      <td>0</td>\n",
       "      <td>2</td>\n",
       "      <td>Montvila, Rev. Juozas</td>\n",
       "      <td>male</td>\n",
       "      <td>27.000000</td>\n",
       "      <td>0</td>\n",
       "      <td>0</td>\n",
       "      <td>211536</td>\n",
       "      <td>13.0000</td>\n",
       "      <td>S</td>\n",
       "      <td>Other</td>\n",
       "    </tr>\n",
       "    <tr>\n",
       "      <th>806</th>\n",
       "      <td>888</td>\n",
       "      <td>1</td>\n",
       "      <td>1</td>\n",
       "      <td>Graham, Miss. Margaret Edith</td>\n",
       "      <td>female</td>\n",
       "      <td>19.000000</td>\n",
       "      <td>0</td>\n",
       "      <td>0</td>\n",
       "      <td>112053</td>\n",
       "      <td>30.0000</td>\n",
       "      <td>S</td>\n",
       "      <td>Miss</td>\n",
       "    </tr>\n",
       "    <tr>\n",
       "      <th>807</th>\n",
       "      <td>889</td>\n",
       "      <td>0</td>\n",
       "      <td>3</td>\n",
       "      <td>Johnston, Miss. Catherine Helen \"Carrie\"</td>\n",
       "      <td>female</td>\n",
       "      <td>23.046875</td>\n",
       "      <td>1</td>\n",
       "      <td>2</td>\n",
       "      <td>W./C. 6607</td>\n",
       "      <td>23.4500</td>\n",
       "      <td>S</td>\n",
       "      <td>Miss</td>\n",
       "    </tr>\n",
       "    <tr>\n",
       "      <th>808</th>\n",
       "      <td>890</td>\n",
       "      <td>1</td>\n",
       "      <td>1</td>\n",
       "      <td>Behr, Mr. Karl Howell</td>\n",
       "      <td>male</td>\n",
       "      <td>26.000000</td>\n",
       "      <td>0</td>\n",
       "      <td>0</td>\n",
       "      <td>111369</td>\n",
       "      <td>30.0000</td>\n",
       "      <td>C</td>\n",
       "      <td>Mr</td>\n",
       "    </tr>\n",
       "    <tr>\n",
       "      <th>809</th>\n",
       "      <td>891</td>\n",
       "      <td>0</td>\n",
       "      <td>3</td>\n",
       "      <td>Dooley, Mr. Patrick</td>\n",
       "      <td>male</td>\n",
       "      <td>32.000000</td>\n",
       "      <td>0</td>\n",
       "      <td>0</td>\n",
       "      <td>370376</td>\n",
       "      <td>7.7500</td>\n",
       "      <td>Q</td>\n",
       "      <td>Mr</td>\n",
       "    </tr>\n",
       "  </tbody>\n",
       "</table>\n",
       "<p>810 rows × 12 columns</p>\n",
       "</div>"
      ],
      "text/plain": [
       "     PassengerId  Survived  Pclass  \\\n",
       "0              1         0       3   \n",
       "1              2         1       1   \n",
       "2              3         1       3   \n",
       "3              4         1       1   \n",
       "4              5         0       3   \n",
       "..           ...       ...     ...   \n",
       "805          887         0       2   \n",
       "806          888         1       1   \n",
       "807          889         0       3   \n",
       "808          890         1       1   \n",
       "809          891         0       3   \n",
       "\n",
       "                                                  Name     Sex        Age  \\\n",
       "0                              Braund, Mr. Owen Harris    male  22.000000   \n",
       "1    Cumings, Mrs. John Bradley (Florence Briggs Th...  female  38.000000   \n",
       "2                               Heikkinen, Miss. Laina  female  26.000000   \n",
       "3         Futrelle, Mrs. Jacques Heath (Lily May Peel)  female  35.000000   \n",
       "4                             Allen, Mr. William Henry    male  35.000000   \n",
       "..                                                 ...     ...        ...   \n",
       "805                              Montvila, Rev. Juozas    male  27.000000   \n",
       "806                       Graham, Miss. Margaret Edith  female  19.000000   \n",
       "807           Johnston, Miss. Catherine Helen \"Carrie\"  female  23.046875   \n",
       "808                              Behr, Mr. Karl Howell    male  26.000000   \n",
       "809                                Dooley, Mr. Patrick    male  32.000000   \n",
       "\n",
       "     SibSp  Parch            Ticket     Fare Embarked Initial  \n",
       "0        1      0         A/5 21171   7.2500        S      Mr  \n",
       "1        1      0          PC 17599  71.2833        C     Mrs  \n",
       "2        0      0  STON/O2. 3101282   7.9250        S    Miss  \n",
       "3        1      0            113803  53.1000        S     Mrs  \n",
       "4        0      0            373450   8.0500        S      Mr  \n",
       "..     ...    ...               ...      ...      ...     ...  \n",
       "805      0      0            211536  13.0000        S   Other  \n",
       "806      0      0            112053  30.0000        S    Miss  \n",
       "807      1      2        W./C. 6607  23.4500        S    Miss  \n",
       "808      0      0            111369  30.0000        C      Mr  \n",
       "809      0      0            370376   7.7500        Q      Mr  \n",
       "\n",
       "[810 rows x 12 columns]"
      ]
     },
     "execution_count": 26,
     "metadata": {},
     "output_type": "execute_result"
    }
   ],
   "source": [
    "train_df.drop(['Cabin'], axis=1, inplace=True)\n",
    "train_df"
   ]
  },
  {
   "cell_type": "markdown",
   "id": "6ae3987f",
   "metadata": {
    "papermill": {
     "duration": 0.017187,
     "end_time": "2023-07-24T09:37:55.219478",
     "exception": false,
     "start_time": "2023-07-24T09:37:55.202291",
     "status": "completed"
    },
    "tags": []
   },
   "source": [
    "# 4. Analysis of The Features 📝\n",
    "***\n",
    "In this section I will analyze each feature and also look for important findings for each feature"
   ]
  },
  {
   "cell_type": "code",
   "execution_count": null,
   "id": "a0918ee5",
   "metadata": {
    "papermill": {
     "duration": 0.016567,
     "end_time": "2023-07-24T09:37:55.253076",
     "exception": false,
     "start_time": "2023-07-24T09:37:55.236509",
     "status": "completed"
    },
    "tags": []
   },
   "outputs": [],
   "source": []
  }
 ],
 "metadata": {
  "kernelspec": {
   "display_name": "Python 3",
   "language": "python",
   "name": "python3"
  },
  "language_info": {
   "codemirror_mode": {
    "name": "ipython",
    "version": 3
   },
   "file_extension": ".py",
   "mimetype": "text/x-python",
   "name": "python",
   "nbconvert_exporter": "python",
   "pygments_lexer": "ipython3",
   "version": "3.10.10"
  },
  "papermill": {
   "default_parameters": {},
   "duration": 19.762623,
   "end_time": "2023-07-24T09:37:56.292995",
   "environment_variables": {},
   "exception": null,
   "input_path": "__notebook__.ipynb",
   "output_path": "__notebook__.ipynb",
   "parameters": {},
   "start_time": "2023-07-24T09:37:36.530372",
   "version": "2.4.0"
  }
 },
 "nbformat": 4,
 "nbformat_minor": 5
}
