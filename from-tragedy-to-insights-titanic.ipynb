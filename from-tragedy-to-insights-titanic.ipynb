{
 "cells": [
  {
   "cell_type": "markdown",
   "id": "0c515aa1",
   "metadata": {
    "papermill": {
     "duration": 0.003377,
     "end_time": "2023-07-07T07:08:29.770718",
     "exception": false,
     "start_time": "2023-07-07T07:08:29.767341",
     "status": "completed"
    },
    "tags": []
   },
   "source": [
    "<center><img src=\"https://upload.wikimedia.org/wikipedia/commons/thumb/f/fd/RMS_Titanic_3.jpg/1280px-RMS_Titanic_3.jpg\" alt=\"Titanic\" width = \"500\"></center>\n",
    "\n",
    "# Introduction\n",
    "***\n",
    "<font size=\"5\"><center><em> \"The Titanic case has been used too often and feels dull\" </em></center></font>\n",
    "\n",
    "But overthinking only kept my data project stuck in emptiness. Finally, I decided to push forward and disregard that notion. Why not kickstart my data science project with the Titanic case?\n",
    "In that decision, I found newfound inspiration. I laid out the steps, prepared my Python notebook, and began delving into the Titanic dataset. Despite the debated boredom, I discovered intriguing findings that sharpened my data science skills.<br>\n",
    "So, let's leave behind the common mindset and dare to face the challenge. This is my first step towards building an extraordinary data science portfolio.\n",
    "\n",
    "## About Titanic Disaster\n",
    "The sinking of the Titanic is one of the most infamous shipwrecks in history.\n",
    "On April 15, 1912, during her maiden voyage, the widely considered “unsinkable” RMS Titanic sank after colliding with an iceberg. Unfortunately, there weren’t enough lifeboats for everyone onboard, resulting in the death of 1502 out of 2224 passengers and crew.<br>\n",
    "While there was some element of luck involved in surviving, it seems some groups of people were more likely to survive than others.\n",
    "\n",
    "## Objectives\n",
    "- Do an **Exploratory Data Analysis (EDA)** of Titanic Disaster\n",
    "- Build a **predictive model** to predict the chances of passengers survival\n",
    "- **KICKSTART FOR MY DATA SCIENCE PROJECT 🔥🔥🔥**"
   ]
  },
  {
   "cell_type": "markdown",
   "id": "fe729ee6",
   "metadata": {
    "papermill": {
     "duration": 0.002533,
     "end_time": "2023-07-07T07:08:29.777345",
     "exception": false,
     "start_time": "2023-07-07T07:08:29.774812",
     "status": "completed"
    },
    "tags": []
   },
   "source": [
    "# Part 1: Importing Necessary Library and Dataset\n",
    "***\n",
    "To start this project, first we need to prepare the required libraries and datasets\n",
    "\n",
    "## 1.1 Importing Library\n",
    "Want to expolore and analyze data more easily❔❔❔<br>\n",
    "The answer lies in using **libraries**❗❗❗\n",
    "\n",
    "In this section we will import libraries to assist us in analyzing the Titanic data"
   ]
  },
  {
   "cell_type": "code",
   "execution_count": 1,
   "id": "46967c4a",
   "metadata": {
    "execution": {
     "iopub.execute_input": "2023-07-07T07:08:29.786126Z",
     "iopub.status.busy": "2023-07-07T07:08:29.784927Z",
     "iopub.status.idle": "2023-07-07T07:08:31.406540Z",
     "shell.execute_reply": "2023-07-07T07:08:31.404805Z"
    },
    "papermill": {
     "duration": 1.629622,
     "end_time": "2023-07-07T07:08:31.409986",
     "exception": false,
     "start_time": "2023-07-07T07:08:29.780364",
     "status": "completed"
    },
    "tags": []
   },
   "outputs": [
    {
     "name": "stdout",
     "output_type": "stream",
     "text": [
      "/kaggle/input/titanic/train.csv\n",
      "/kaggle/input/titanic/test.csv\n",
      "/kaggle/input/titanic/gender_submission.csv\n"
     ]
    }
   ],
   "source": [
    "import pandas as pd\n",
    "import numpy as py\n",
    "from matplotlib import pyplot as plt\n",
    "plt.style.use('fivethirtyeight')\n",
    "import seaborn as sns\n",
    "\n",
    "import warnings\n",
    "warnings.filterwarnings('ignore') ## To ignore warning\n",
    "\n",
    "%config InlineBackend.figure_format = 'retina' \n",
    "# %matplotlib inline\n",
    "## the output of plotting commands is displayed inline within frontends like the Jupyter notebook, directly below the code cell that produced it. The resulting plots will then also be stored in the notebook document\n",
    "\n",
    "import os\n",
    "for dirname, _, filenames in os.walk('/kaggle/input'):\n",
    "    for filename in filenames:\n",
    "        print(os.path.join(dirname, filename))"
   ]
  },
  {
   "cell_type": "markdown",
   "id": "2c0f23bb",
   "metadata": {
    "papermill": {
     "duration": 0.002607,
     "end_time": "2023-07-07T07:08:31.415779",
     "exception": false,
     "start_time": "2023-07-07T07:08:31.413172",
     "status": "completed"
    },
    "tags": []
   },
   "source": [
    "## 1b. Loading Dataset\n",
    "There are three csv on this project, but we will only use two of them  (train.csv & test.csv).\n",
    "\n",
    "**Data Training** (train.csv): The training data is used to train the machine learning model by feeding it labeled examples and enabling it to capture patterns and relationships between input features and corresponding labels.\n",
    "\n",
    "**Data Test**(test.csv): The test data is a separate dataset used to evaluate the performance of the trained model by comparing its predictions against the true labels, allowing us to assess how well the model can generalize and make accurate predictions on unseen data."
   ]
  },
  {
   "cell_type": "code",
   "execution_count": 2,
   "id": "9da630bb",
   "metadata": {
    "execution": {
     "iopub.execute_input": "2023-07-07T07:08:31.424147Z",
     "iopub.status.busy": "2023-07-07T07:08:31.423632Z",
     "iopub.status.idle": "2023-07-07T07:08:31.479980Z",
     "shell.execute_reply": "2023-07-07T07:08:31.478727Z"
    },
    "papermill": {
     "duration": 0.064113,
     "end_time": "2023-07-07T07:08:31.482898",
     "exception": false,
     "start_time": "2023-07-07T07:08:31.418785",
     "status": "completed"
    },
    "tags": []
   },
   "outputs": [],
   "source": [
    "train = pd.read_csv('/kaggle/input/titanic/train.csv')\n",
    "test = pd.read_csv('/kaggle/input/titanic/test.csv')\n",
    "combine = pd.concat([train.drop('Survived',1),test])"
   ]
  },
  {
   "cell_type": "code",
   "execution_count": 3,
   "id": "5fe859fb",
   "metadata": {
    "execution": {
     "iopub.execute_input": "2023-07-07T07:08:31.491211Z",
     "iopub.status.busy": "2023-07-07T07:08:31.490669Z",
     "iopub.status.idle": "2023-07-07T07:08:31.525804Z",
     "shell.execute_reply": "2023-07-07T07:08:31.524506Z"
    },
    "papermill": {
     "duration": 0.042738,
     "end_time": "2023-07-07T07:08:31.528648",
     "exception": false,
     "start_time": "2023-07-07T07:08:31.485910",
     "status": "completed"
    },
    "tags": []
   },
   "outputs": [
    {
     "data": {
      "text/html": [
       "<div>\n",
       "<style scoped>\n",
       "    .dataframe tbody tr th:only-of-type {\n",
       "        vertical-align: middle;\n",
       "    }\n",
       "\n",
       "    .dataframe tbody tr th {\n",
       "        vertical-align: top;\n",
       "    }\n",
       "\n",
       "    .dataframe thead th {\n",
       "        text-align: right;\n",
       "    }\n",
       "</style>\n",
       "<table border=\"1\" class=\"dataframe\">\n",
       "  <thead>\n",
       "    <tr style=\"text-align: right;\">\n",
       "      <th></th>\n",
       "      <th>PassengerId</th>\n",
       "      <th>Survived</th>\n",
       "      <th>Pclass</th>\n",
       "      <th>Name</th>\n",
       "      <th>Sex</th>\n",
       "      <th>Age</th>\n",
       "      <th>SibSp</th>\n",
       "      <th>Parch</th>\n",
       "      <th>Ticket</th>\n",
       "      <th>Fare</th>\n",
       "      <th>Cabin</th>\n",
       "      <th>Embarked</th>\n",
       "    </tr>\n",
       "  </thead>\n",
       "  <tbody>\n",
       "    <tr>\n",
       "      <th>0</th>\n",
       "      <td>1</td>\n",
       "      <td>0</td>\n",
       "      <td>3</td>\n",
       "      <td>Braund, Mr. Owen Harris</td>\n",
       "      <td>male</td>\n",
       "      <td>22.0</td>\n",
       "      <td>1</td>\n",
       "      <td>0</td>\n",
       "      <td>A/5 21171</td>\n",
       "      <td>7.2500</td>\n",
       "      <td>NaN</td>\n",
       "      <td>S</td>\n",
       "    </tr>\n",
       "    <tr>\n",
       "      <th>1</th>\n",
       "      <td>2</td>\n",
       "      <td>1</td>\n",
       "      <td>1</td>\n",
       "      <td>Cumings, Mrs. John Bradley (Florence Briggs Th...</td>\n",
       "      <td>female</td>\n",
       "      <td>38.0</td>\n",
       "      <td>1</td>\n",
       "      <td>0</td>\n",
       "      <td>PC 17599</td>\n",
       "      <td>71.2833</td>\n",
       "      <td>C85</td>\n",
       "      <td>C</td>\n",
       "    </tr>\n",
       "    <tr>\n",
       "      <th>2</th>\n",
       "      <td>3</td>\n",
       "      <td>1</td>\n",
       "      <td>3</td>\n",
       "      <td>Heikkinen, Miss. Laina</td>\n",
       "      <td>female</td>\n",
       "      <td>26.0</td>\n",
       "      <td>0</td>\n",
       "      <td>0</td>\n",
       "      <td>STON/O2. 3101282</td>\n",
       "      <td>7.9250</td>\n",
       "      <td>NaN</td>\n",
       "      <td>S</td>\n",
       "    </tr>\n",
       "    <tr>\n",
       "      <th>3</th>\n",
       "      <td>4</td>\n",
       "      <td>1</td>\n",
       "      <td>1</td>\n",
       "      <td>Futrelle, Mrs. Jacques Heath (Lily May Peel)</td>\n",
       "      <td>female</td>\n",
       "      <td>35.0</td>\n",
       "      <td>1</td>\n",
       "      <td>0</td>\n",
       "      <td>113803</td>\n",
       "      <td>53.1000</td>\n",
       "      <td>C123</td>\n",
       "      <td>S</td>\n",
       "    </tr>\n",
       "    <tr>\n",
       "      <th>4</th>\n",
       "      <td>5</td>\n",
       "      <td>0</td>\n",
       "      <td>3</td>\n",
       "      <td>Allen, Mr. William Henry</td>\n",
       "      <td>male</td>\n",
       "      <td>35.0</td>\n",
       "      <td>0</td>\n",
       "      <td>0</td>\n",
       "      <td>373450</td>\n",
       "      <td>8.0500</td>\n",
       "      <td>NaN</td>\n",
       "      <td>S</td>\n",
       "    </tr>\n",
       "  </tbody>\n",
       "</table>\n",
       "</div>"
      ],
      "text/plain": [
       "   PassengerId  Survived  Pclass  \\\n",
       "0            1         0       3   \n",
       "1            2         1       1   \n",
       "2            3         1       3   \n",
       "3            4         1       1   \n",
       "4            5         0       3   \n",
       "\n",
       "                                                Name     Sex   Age  SibSp  \\\n",
       "0                            Braund, Mr. Owen Harris    male  22.0      1   \n",
       "1  Cumings, Mrs. John Bradley (Florence Briggs Th...  female  38.0      1   \n",
       "2                             Heikkinen, Miss. Laina  female  26.0      0   \n",
       "3       Futrelle, Mrs. Jacques Heath (Lily May Peel)  female  35.0      1   \n",
       "4                           Allen, Mr. William Henry    male  35.0      0   \n",
       "\n",
       "   Parch            Ticket     Fare Cabin Embarked  \n",
       "0      0         A/5 21171   7.2500   NaN        S  \n",
       "1      0          PC 17599  71.2833   C85        C  \n",
       "2      0  STON/O2. 3101282   7.9250   NaN        S  \n",
       "3      0            113803  53.1000  C123        S  \n",
       "4      0            373450   8.0500   NaN        S  "
      ]
     },
     "execution_count": 3,
     "metadata": {},
     "output_type": "execute_result"
    }
   ],
   "source": [
    "train.head()"
   ]
  },
  {
   "cell_type": "code",
   "execution_count": null,
   "id": "509f03d5",
   "metadata": {
    "papermill": {
     "duration": 0.003031,
     "end_time": "2023-07-07T07:08:31.534855",
     "exception": false,
     "start_time": "2023-07-07T07:08:31.531824",
     "status": "completed"
    },
    "tags": []
   },
   "outputs": [],
   "source": []
  }
 ],
 "metadata": {
  "kernelspec": {
   "display_name": "Python 3",
   "language": "python",
   "name": "python3"
  },
  "language_info": {
   "codemirror_mode": {
    "name": "ipython",
    "version": 3
   },
   "file_extension": ".py",
   "mimetype": "text/x-python",
   "name": "python",
   "nbconvert_exporter": "python",
   "pygments_lexer": "ipython3",
   "version": "3.10.10"
  },
  "papermill": {
   "default_parameters": {},
   "duration": 17.828973,
   "end_time": "2023-07-07T07:08:33.850796",
   "environment_variables": {},
   "exception": null,
   "input_path": "__notebook__.ipynb",
   "output_path": "__notebook__.ipynb",
   "parameters": {},
   "start_time": "2023-07-07T07:08:16.021823",
   "version": "2.4.0"
  }
 },
 "nbformat": 4,
 "nbformat_minor": 5
}
